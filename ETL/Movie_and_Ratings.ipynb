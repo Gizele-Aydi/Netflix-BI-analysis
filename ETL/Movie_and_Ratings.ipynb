{
 "cells": [
  {
   "cell_type": "code",
   "execution_count": 5,
   "metadata": {
    "id": "-W2IPuZG3Lbk"
   },
   "outputs": [],
   "source": [
    "import pandas as pd"
   ]
  },
  {
   "cell_type": "code",
   "execution_count": 6,
   "metadata": {
    "colab": {
     "base_uri": "https://localhost:8080/"
    },
    "id": "o3Wjt37oEDCW",
    "outputId": "0530bbf5-3b81-4540-9d3e-7b2c2bfbbb98"
   },
   "outputs": [
    {
     "name": "stdout",
     "output_type": "stream",
     "text": [
      "Defaulting to user installation because normal site-packages is not writeable\n",
      "Requirement already satisfied: xlrd in c:\\users\\jyzel\\appdata\\roaming\\python\\python313\\site-packages (2.0.1)\n"
     ]
    }
   ],
   "source": [
    "!pip install xlrd"
   ]
  },
  {
   "cell_type": "markdown",
   "metadata": {
    "id": "nK3LMRbTKo0e"
   },
   "source": [
    "# 1. Importing Data\n"
   ]
  },
  {
   "cell_type": "code",
   "execution_count": 7,
   "metadata": {
    "id": "4FS7t_5eFJNp"
   },
   "outputs": [
    {
     "ename": "FileNotFoundError",
     "evalue": "[Errno 2] No such file or directory: 'C:/.Fichiers/.Révision/.Junior/BI & DBM/BI project/Datasets/Raw/Movie & Ratings/Shows and Ratings.csv'",
     "output_type": "error",
     "traceback": [
      "\u001b[1;31m---------------------------------------------------------------------------\u001b[0m",
      "\u001b[1;31mFileNotFoundError\u001b[0m                         Traceback (most recent call last)",
      "Cell \u001b[1;32mIn[7], line 5\u001b[0m\n\u001b[0;32m      2\u001b[0m file_name \u001b[38;5;241m=\u001b[39m \u001b[38;5;124m'\u001b[39m\u001b[38;5;124mC:/.Fichiers/.Révision/.Junior/BI & DBM/BI project/Datasets/Raw/Movie & Ratings/Shows and Ratings.csv\u001b[39m\u001b[38;5;124m'\u001b[39m\n\u001b[0;32m      4\u001b[0m \u001b[38;5;66;03m# Load the Excel file\u001b[39;00m\n\u001b[1;32m----> 5\u001b[0m df \u001b[38;5;241m=\u001b[39m \u001b[43mpd\u001b[49m\u001b[38;5;241;43m.\u001b[39;49m\u001b[43mread_csv\u001b[49m\u001b[43m(\u001b[49m\u001b[43mfile_name\u001b[49m\u001b[43m)\u001b[49m\n",
      "File \u001b[1;32mc:\\Users\\jyzel\\AppData\\Local\\Programs\\Python\\Python312\\Lib\\site-packages\\pandas\\io\\parsers\\readers.py:1026\u001b[0m, in \u001b[0;36mread_csv\u001b[1;34m(filepath_or_buffer, sep, delimiter, header, names, index_col, usecols, dtype, engine, converters, true_values, false_values, skipinitialspace, skiprows, skipfooter, nrows, na_values, keep_default_na, na_filter, verbose, skip_blank_lines, parse_dates, infer_datetime_format, keep_date_col, date_parser, date_format, dayfirst, cache_dates, iterator, chunksize, compression, thousands, decimal, lineterminator, quotechar, quoting, doublequote, escapechar, comment, encoding, encoding_errors, dialect, on_bad_lines, delim_whitespace, low_memory, memory_map, float_precision, storage_options, dtype_backend)\u001b[0m\n\u001b[0;32m   1013\u001b[0m kwds_defaults \u001b[38;5;241m=\u001b[39m _refine_defaults_read(\n\u001b[0;32m   1014\u001b[0m     dialect,\n\u001b[0;32m   1015\u001b[0m     delimiter,\n\u001b[1;32m   (...)\u001b[0m\n\u001b[0;32m   1022\u001b[0m     dtype_backend\u001b[38;5;241m=\u001b[39mdtype_backend,\n\u001b[0;32m   1023\u001b[0m )\n\u001b[0;32m   1024\u001b[0m kwds\u001b[38;5;241m.\u001b[39mupdate(kwds_defaults)\n\u001b[1;32m-> 1026\u001b[0m \u001b[38;5;28;01mreturn\u001b[39;00m \u001b[43m_read\u001b[49m\u001b[43m(\u001b[49m\u001b[43mfilepath_or_buffer\u001b[49m\u001b[43m,\u001b[49m\u001b[43m \u001b[49m\u001b[43mkwds\u001b[49m\u001b[43m)\u001b[49m\n",
      "File \u001b[1;32mc:\\Users\\jyzel\\AppData\\Local\\Programs\\Python\\Python312\\Lib\\site-packages\\pandas\\io\\parsers\\readers.py:620\u001b[0m, in \u001b[0;36m_read\u001b[1;34m(filepath_or_buffer, kwds)\u001b[0m\n\u001b[0;32m    617\u001b[0m _validate_names(kwds\u001b[38;5;241m.\u001b[39mget(\u001b[38;5;124m\"\u001b[39m\u001b[38;5;124mnames\u001b[39m\u001b[38;5;124m\"\u001b[39m, \u001b[38;5;28;01mNone\u001b[39;00m))\n\u001b[0;32m    619\u001b[0m \u001b[38;5;66;03m# Create the parser.\u001b[39;00m\n\u001b[1;32m--> 620\u001b[0m parser \u001b[38;5;241m=\u001b[39m \u001b[43mTextFileReader\u001b[49m\u001b[43m(\u001b[49m\u001b[43mfilepath_or_buffer\u001b[49m\u001b[43m,\u001b[49m\u001b[43m \u001b[49m\u001b[38;5;241;43m*\u001b[39;49m\u001b[38;5;241;43m*\u001b[39;49m\u001b[43mkwds\u001b[49m\u001b[43m)\u001b[49m\n\u001b[0;32m    622\u001b[0m \u001b[38;5;28;01mif\u001b[39;00m chunksize \u001b[38;5;129;01mor\u001b[39;00m iterator:\n\u001b[0;32m    623\u001b[0m     \u001b[38;5;28;01mreturn\u001b[39;00m parser\n",
      "File \u001b[1;32mc:\\Users\\jyzel\\AppData\\Local\\Programs\\Python\\Python312\\Lib\\site-packages\\pandas\\io\\parsers\\readers.py:1620\u001b[0m, in \u001b[0;36mTextFileReader.__init__\u001b[1;34m(self, f, engine, **kwds)\u001b[0m\n\u001b[0;32m   1617\u001b[0m     \u001b[38;5;28mself\u001b[39m\u001b[38;5;241m.\u001b[39moptions[\u001b[38;5;124m\"\u001b[39m\u001b[38;5;124mhas_index_names\u001b[39m\u001b[38;5;124m\"\u001b[39m] \u001b[38;5;241m=\u001b[39m kwds[\u001b[38;5;124m\"\u001b[39m\u001b[38;5;124mhas_index_names\u001b[39m\u001b[38;5;124m\"\u001b[39m]\n\u001b[0;32m   1619\u001b[0m \u001b[38;5;28mself\u001b[39m\u001b[38;5;241m.\u001b[39mhandles: IOHandles \u001b[38;5;241m|\u001b[39m \u001b[38;5;28;01mNone\u001b[39;00m \u001b[38;5;241m=\u001b[39m \u001b[38;5;28;01mNone\u001b[39;00m\n\u001b[1;32m-> 1620\u001b[0m \u001b[38;5;28mself\u001b[39m\u001b[38;5;241m.\u001b[39m_engine \u001b[38;5;241m=\u001b[39m \u001b[38;5;28;43mself\u001b[39;49m\u001b[38;5;241;43m.\u001b[39;49m\u001b[43m_make_engine\u001b[49m\u001b[43m(\u001b[49m\u001b[43mf\u001b[49m\u001b[43m,\u001b[49m\u001b[43m \u001b[49m\u001b[38;5;28;43mself\u001b[39;49m\u001b[38;5;241;43m.\u001b[39;49m\u001b[43mengine\u001b[49m\u001b[43m)\u001b[49m\n",
      "File \u001b[1;32mc:\\Users\\jyzel\\AppData\\Local\\Programs\\Python\\Python312\\Lib\\site-packages\\pandas\\io\\parsers\\readers.py:1880\u001b[0m, in \u001b[0;36mTextFileReader._make_engine\u001b[1;34m(self, f, engine)\u001b[0m\n\u001b[0;32m   1878\u001b[0m     \u001b[38;5;28;01mif\u001b[39;00m \u001b[38;5;124m\"\u001b[39m\u001b[38;5;124mb\u001b[39m\u001b[38;5;124m\"\u001b[39m \u001b[38;5;129;01mnot\u001b[39;00m \u001b[38;5;129;01min\u001b[39;00m mode:\n\u001b[0;32m   1879\u001b[0m         mode \u001b[38;5;241m+\u001b[39m\u001b[38;5;241m=\u001b[39m \u001b[38;5;124m\"\u001b[39m\u001b[38;5;124mb\u001b[39m\u001b[38;5;124m\"\u001b[39m\n\u001b[1;32m-> 1880\u001b[0m \u001b[38;5;28mself\u001b[39m\u001b[38;5;241m.\u001b[39mhandles \u001b[38;5;241m=\u001b[39m \u001b[43mget_handle\u001b[49m\u001b[43m(\u001b[49m\n\u001b[0;32m   1881\u001b[0m \u001b[43m    \u001b[49m\u001b[43mf\u001b[49m\u001b[43m,\u001b[49m\n\u001b[0;32m   1882\u001b[0m \u001b[43m    \u001b[49m\u001b[43mmode\u001b[49m\u001b[43m,\u001b[49m\n\u001b[0;32m   1883\u001b[0m \u001b[43m    \u001b[49m\u001b[43mencoding\u001b[49m\u001b[38;5;241;43m=\u001b[39;49m\u001b[38;5;28;43mself\u001b[39;49m\u001b[38;5;241;43m.\u001b[39;49m\u001b[43moptions\u001b[49m\u001b[38;5;241;43m.\u001b[39;49m\u001b[43mget\u001b[49m\u001b[43m(\u001b[49m\u001b[38;5;124;43m\"\u001b[39;49m\u001b[38;5;124;43mencoding\u001b[39;49m\u001b[38;5;124;43m\"\u001b[39;49m\u001b[43m,\u001b[49m\u001b[43m \u001b[49m\u001b[38;5;28;43;01mNone\u001b[39;49;00m\u001b[43m)\u001b[49m\u001b[43m,\u001b[49m\n\u001b[0;32m   1884\u001b[0m \u001b[43m    \u001b[49m\u001b[43mcompression\u001b[49m\u001b[38;5;241;43m=\u001b[39;49m\u001b[38;5;28;43mself\u001b[39;49m\u001b[38;5;241;43m.\u001b[39;49m\u001b[43moptions\u001b[49m\u001b[38;5;241;43m.\u001b[39;49m\u001b[43mget\u001b[49m\u001b[43m(\u001b[49m\u001b[38;5;124;43m\"\u001b[39;49m\u001b[38;5;124;43mcompression\u001b[39;49m\u001b[38;5;124;43m\"\u001b[39;49m\u001b[43m,\u001b[49m\u001b[43m \u001b[49m\u001b[38;5;28;43;01mNone\u001b[39;49;00m\u001b[43m)\u001b[49m\u001b[43m,\u001b[49m\n\u001b[0;32m   1885\u001b[0m \u001b[43m    \u001b[49m\u001b[43mmemory_map\u001b[49m\u001b[38;5;241;43m=\u001b[39;49m\u001b[38;5;28;43mself\u001b[39;49m\u001b[38;5;241;43m.\u001b[39;49m\u001b[43moptions\u001b[49m\u001b[38;5;241;43m.\u001b[39;49m\u001b[43mget\u001b[49m\u001b[43m(\u001b[49m\u001b[38;5;124;43m\"\u001b[39;49m\u001b[38;5;124;43mmemory_map\u001b[39;49m\u001b[38;5;124;43m\"\u001b[39;49m\u001b[43m,\u001b[49m\u001b[43m \u001b[49m\u001b[38;5;28;43;01mFalse\u001b[39;49;00m\u001b[43m)\u001b[49m\u001b[43m,\u001b[49m\n\u001b[0;32m   1886\u001b[0m \u001b[43m    \u001b[49m\u001b[43mis_text\u001b[49m\u001b[38;5;241;43m=\u001b[39;49m\u001b[43mis_text\u001b[49m\u001b[43m,\u001b[49m\n\u001b[0;32m   1887\u001b[0m \u001b[43m    \u001b[49m\u001b[43merrors\u001b[49m\u001b[38;5;241;43m=\u001b[39;49m\u001b[38;5;28;43mself\u001b[39;49m\u001b[38;5;241;43m.\u001b[39;49m\u001b[43moptions\u001b[49m\u001b[38;5;241;43m.\u001b[39;49m\u001b[43mget\u001b[49m\u001b[43m(\u001b[49m\u001b[38;5;124;43m\"\u001b[39;49m\u001b[38;5;124;43mencoding_errors\u001b[39;49m\u001b[38;5;124;43m\"\u001b[39;49m\u001b[43m,\u001b[49m\u001b[43m \u001b[49m\u001b[38;5;124;43m\"\u001b[39;49m\u001b[38;5;124;43mstrict\u001b[39;49m\u001b[38;5;124;43m\"\u001b[39;49m\u001b[43m)\u001b[49m\u001b[43m,\u001b[49m\n\u001b[0;32m   1888\u001b[0m \u001b[43m    \u001b[49m\u001b[43mstorage_options\u001b[49m\u001b[38;5;241;43m=\u001b[39;49m\u001b[38;5;28;43mself\u001b[39;49m\u001b[38;5;241;43m.\u001b[39;49m\u001b[43moptions\u001b[49m\u001b[38;5;241;43m.\u001b[39;49m\u001b[43mget\u001b[49m\u001b[43m(\u001b[49m\u001b[38;5;124;43m\"\u001b[39;49m\u001b[38;5;124;43mstorage_options\u001b[39;49m\u001b[38;5;124;43m\"\u001b[39;49m\u001b[43m,\u001b[49m\u001b[43m \u001b[49m\u001b[38;5;28;43;01mNone\u001b[39;49;00m\u001b[43m)\u001b[49m\u001b[43m,\u001b[49m\n\u001b[0;32m   1889\u001b[0m \u001b[43m\u001b[49m\u001b[43m)\u001b[49m\n\u001b[0;32m   1890\u001b[0m \u001b[38;5;28;01massert\u001b[39;00m \u001b[38;5;28mself\u001b[39m\u001b[38;5;241m.\u001b[39mhandles \u001b[38;5;129;01mis\u001b[39;00m \u001b[38;5;129;01mnot\u001b[39;00m \u001b[38;5;28;01mNone\u001b[39;00m\n\u001b[0;32m   1891\u001b[0m f \u001b[38;5;241m=\u001b[39m \u001b[38;5;28mself\u001b[39m\u001b[38;5;241m.\u001b[39mhandles\u001b[38;5;241m.\u001b[39mhandle\n",
      "File \u001b[1;32mc:\\Users\\jyzel\\AppData\\Local\\Programs\\Python\\Python312\\Lib\\site-packages\\pandas\\io\\common.py:873\u001b[0m, in \u001b[0;36mget_handle\u001b[1;34m(path_or_buf, mode, encoding, compression, memory_map, is_text, errors, storage_options)\u001b[0m\n\u001b[0;32m    868\u001b[0m \u001b[38;5;28;01melif\u001b[39;00m \u001b[38;5;28misinstance\u001b[39m(handle, \u001b[38;5;28mstr\u001b[39m):\n\u001b[0;32m    869\u001b[0m     \u001b[38;5;66;03m# Check whether the filename is to be opened in binary mode.\u001b[39;00m\n\u001b[0;32m    870\u001b[0m     \u001b[38;5;66;03m# Binary mode does not support 'encoding' and 'newline'.\u001b[39;00m\n\u001b[0;32m    871\u001b[0m     \u001b[38;5;28;01mif\u001b[39;00m ioargs\u001b[38;5;241m.\u001b[39mencoding \u001b[38;5;129;01mand\u001b[39;00m \u001b[38;5;124m\"\u001b[39m\u001b[38;5;124mb\u001b[39m\u001b[38;5;124m\"\u001b[39m \u001b[38;5;129;01mnot\u001b[39;00m \u001b[38;5;129;01min\u001b[39;00m ioargs\u001b[38;5;241m.\u001b[39mmode:\n\u001b[0;32m    872\u001b[0m         \u001b[38;5;66;03m# Encoding\u001b[39;00m\n\u001b[1;32m--> 873\u001b[0m         handle \u001b[38;5;241m=\u001b[39m \u001b[38;5;28;43mopen\u001b[39;49m\u001b[43m(\u001b[49m\n\u001b[0;32m    874\u001b[0m \u001b[43m            \u001b[49m\u001b[43mhandle\u001b[49m\u001b[43m,\u001b[49m\n\u001b[0;32m    875\u001b[0m \u001b[43m            \u001b[49m\u001b[43mioargs\u001b[49m\u001b[38;5;241;43m.\u001b[39;49m\u001b[43mmode\u001b[49m\u001b[43m,\u001b[49m\n\u001b[0;32m    876\u001b[0m \u001b[43m            \u001b[49m\u001b[43mencoding\u001b[49m\u001b[38;5;241;43m=\u001b[39;49m\u001b[43mioargs\u001b[49m\u001b[38;5;241;43m.\u001b[39;49m\u001b[43mencoding\u001b[49m\u001b[43m,\u001b[49m\n\u001b[0;32m    877\u001b[0m \u001b[43m            \u001b[49m\u001b[43merrors\u001b[49m\u001b[38;5;241;43m=\u001b[39;49m\u001b[43merrors\u001b[49m\u001b[43m,\u001b[49m\n\u001b[0;32m    878\u001b[0m \u001b[43m            \u001b[49m\u001b[43mnewline\u001b[49m\u001b[38;5;241;43m=\u001b[39;49m\u001b[38;5;124;43m\"\u001b[39;49m\u001b[38;5;124;43m\"\u001b[39;49m\u001b[43m,\u001b[49m\n\u001b[0;32m    879\u001b[0m \u001b[43m        \u001b[49m\u001b[43m)\u001b[49m\n\u001b[0;32m    880\u001b[0m     \u001b[38;5;28;01melse\u001b[39;00m:\n\u001b[0;32m    881\u001b[0m         \u001b[38;5;66;03m# Binary mode\u001b[39;00m\n\u001b[0;32m    882\u001b[0m         handle \u001b[38;5;241m=\u001b[39m \u001b[38;5;28mopen\u001b[39m(handle, ioargs\u001b[38;5;241m.\u001b[39mmode)\n",
      "\u001b[1;31mFileNotFoundError\u001b[0m: [Errno 2] No such file or directory: 'C:/.Fichiers/.Révision/.Junior/BI & DBM/BI project/Datasets/Raw/Movie & Ratings/Shows and Ratings.csv'"
     ]
    }
   ],
   "source": [
    "# Replace 'your_file.xls' with the name of your uploaded file\n",
    "file_name = 'C:/.Fichiers/.Révision/.Junior/BI & DBM/BI project/Datasets/Raw/Movie & Ratings/Shows and Ratings.csv'\n",
    "\n",
    "# Load the Excel file\n",
    "df = pd.read_csv(file_name)"
   ]
  },
  {
   "cell_type": "code",
   "execution_count": 4,
   "metadata": {
    "colab": {
     "base_uri": "https://localhost:8080/",
     "height": 423
    },
    "id": "Q5V9zAfoHhNG",
    "outputId": "1e70312c-145a-4c51-8182-388aca68be39"
   },
   "outputs": [
    {
     "data": {
      "text/html": [
       "<div>\n",
       "<style scoped>\n",
       "    .dataframe tbody tr th:only-of-type {\n",
       "        vertical-align: middle;\n",
       "    }\n",
       "\n",
       "    .dataframe tbody tr th {\n",
       "        vertical-align: top;\n",
       "    }\n",
       "\n",
       "    .dataframe thead th {\n",
       "        text-align: right;\n",
       "    }\n",
       "</style>\n",
       "<table border=\"1\" class=\"dataframe\">\n",
       "  <thead>\n",
       "    <tr style=\"text-align: right;\">\n",
       "      <th></th>\n",
       "      <th>Title</th>\n",
       "      <th>Type_ID</th>\n",
       "      <th>Genre_ID</th>\n",
       "      <th>Year</th>\n",
       "      <th>IMDB_Score</th>\n",
       "      <th>Netflix_Original</th>\n",
       "    </tr>\n",
       "  </thead>\n",
       "  <tbody>\n",
       "    <tr>\n",
       "      <th>0</th>\n",
       "      <td>The Fifth Element</td>\n",
       "      <td>movie</td>\n",
       "      <td>Action, Adventure, Sci-Fi</td>\n",
       "      <td>1997</td>\n",
       "      <td>7.6</td>\n",
       "      <td>False</td>\n",
       "    </tr>\n",
       "    <tr>\n",
       "      <th>1</th>\n",
       "      <td>Kill Bill: Vol. 1</td>\n",
       "      <td>movie</td>\n",
       "      <td>Action, Crime, Thriller</td>\n",
       "      <td>2003</td>\n",
       "      <td>8.2</td>\n",
       "      <td>False</td>\n",
       "    </tr>\n",
       "    <tr>\n",
       "      <th>2</th>\n",
       "      <td>Jarhead</td>\n",
       "      <td>movie</td>\n",
       "      <td>Biography, Drama, War</td>\n",
       "      <td>2005</td>\n",
       "      <td>7.0</td>\n",
       "      <td>False</td>\n",
       "    </tr>\n",
       "    <tr>\n",
       "      <th>3</th>\n",
       "      <td>Unforgiven</td>\n",
       "      <td>movie</td>\n",
       "      <td>Drama, Western</td>\n",
       "      <td>1992</td>\n",
       "      <td>8.2</td>\n",
       "      <td>False</td>\n",
       "    </tr>\n",
       "    <tr>\n",
       "      <th>4</th>\n",
       "      <td>Eternal Sunshine of the Spotless Mind</td>\n",
       "      <td>movie</td>\n",
       "      <td>Drama, Romance, Sci-Fi</td>\n",
       "      <td>2004</td>\n",
       "      <td>8.3</td>\n",
       "      <td>False</td>\n",
       "    </tr>\n",
       "    <tr>\n",
       "      <th>...</th>\n",
       "      <td>...</td>\n",
       "      <td>...</td>\n",
       "      <td>...</td>\n",
       "      <td>...</td>\n",
       "      <td>...</td>\n",
       "      <td>...</td>\n",
       "    </tr>\n",
       "    <tr>\n",
       "      <th>21085</th>\n",
       "      <td>Taylor Swift: Reputation Stadium Tour</td>\n",
       "      <td>NaN</td>\n",
       "      <td>Concert Film</td>\n",
       "      <td>December 31, 2018</td>\n",
       "      <td>8.4</td>\n",
       "      <td>True</td>\n",
       "    </tr>\n",
       "    <tr>\n",
       "      <th>21086</th>\n",
       "      <td>Winter on Fire: Ukraine's Fight for Freedom</td>\n",
       "      <td>NaN</td>\n",
       "      <td>Documentary</td>\n",
       "      <td>October 9, 2015</td>\n",
       "      <td>8.4</td>\n",
       "      <td>True</td>\n",
       "    </tr>\n",
       "    <tr>\n",
       "      <th>21087</th>\n",
       "      <td>Springsteen on Broadway</td>\n",
       "      <td>NaN</td>\n",
       "      <td>One-man show</td>\n",
       "      <td>December 16, 2018</td>\n",
       "      <td>8.5</td>\n",
       "      <td>True</td>\n",
       "    </tr>\n",
       "    <tr>\n",
       "      <th>21088</th>\n",
       "      <td>Emicida: AmarElo - It's All For Yesterday</td>\n",
       "      <td>NaN</td>\n",
       "      <td>Documentary</td>\n",
       "      <td>December 8, 2020</td>\n",
       "      <td>8.6</td>\n",
       "      <td>True</td>\n",
       "    </tr>\n",
       "    <tr>\n",
       "      <th>21089</th>\n",
       "      <td>David Attenborough: A Life on Our Planet</td>\n",
       "      <td>NaN</td>\n",
       "      <td>Documentary</td>\n",
       "      <td>October 4, 2020</td>\n",
       "      <td>9.0</td>\n",
       "      <td>True</td>\n",
       "    </tr>\n",
       "  </tbody>\n",
       "</table>\n",
       "<p>21090 rows × 6 columns</p>\n",
       "</div>"
      ],
      "text/plain": [
       "                                             Title Type_ID  \\\n",
       "0                                The Fifth Element   movie   \n",
       "1                                Kill Bill: Vol. 1   movie   \n",
       "2                                          Jarhead   movie   \n",
       "3                                       Unforgiven   movie   \n",
       "4            Eternal Sunshine of the Spotless Mind   movie   \n",
       "...                                            ...     ...   \n",
       "21085        Taylor Swift: Reputation Stadium Tour     NaN   \n",
       "21086  Winter on Fire: Ukraine's Fight for Freedom     NaN   \n",
       "21087                      Springsteen on Broadway     NaN   \n",
       "21088    Emicida: AmarElo - It's All For Yesterday     NaN   \n",
       "21089     David Attenborough: A Life on Our Planet     NaN   \n",
       "\n",
       "                        Genre_ID               Year  IMDB_Score  \\\n",
       "0      Action, Adventure, Sci-Fi               1997         7.6   \n",
       "1        Action, Crime, Thriller               2003         8.2   \n",
       "2          Biography, Drama, War               2005         7.0   \n",
       "3                 Drama, Western               1992         8.2   \n",
       "4         Drama, Romance, Sci-Fi               2004         8.3   \n",
       "...                          ...                ...         ...   \n",
       "21085               Concert Film  December 31, 2018         8.4   \n",
       "21086                Documentary    October 9, 2015         8.4   \n",
       "21087               One-man show  December 16, 2018         8.5   \n",
       "21088                Documentary   December 8, 2020         8.6   \n",
       "21089                Documentary    October 4, 2020         9.0   \n",
       "\n",
       "       Netflix_Original  \n",
       "0                 False  \n",
       "1                 False  \n",
       "2                 False  \n",
       "3                 False  \n",
       "4                 False  \n",
       "...                 ...  \n",
       "21085              True  \n",
       "21086              True  \n",
       "21087              True  \n",
       "21088              True  \n",
       "21089              True  \n",
       "\n",
       "[21090 rows x 6 columns]"
      ]
     },
     "execution_count": 4,
     "metadata": {},
     "output_type": "execute_result"
    }
   ],
   "source": [
    "df"
   ]
  },
  {
   "cell_type": "markdown",
   "metadata": {
    "id": "BSUnHYXAKhse",
    "jp-MarkdownHeadingCollapsed": true
   },
   "source": [
    "# 2. Handle Missing Data\n"
   ]
  },
  {
   "cell_type": "code",
   "execution_count": 5,
   "metadata": {
    "colab": {
     "base_uri": "https://localhost:8080/",
     "height": 290
    },
    "id": "uRrcV4MEInfe",
    "outputId": "9a7c465f-bc8e-483b-ee33-b9fffba69d72"
   },
   "outputs": [
    {
     "name": "stdout",
     "output_type": "stream",
     "text": [
      "NaN Count in Each Column:\n"
     ]
    },
    {
     "data": {
      "text/plain": [
       "Title                561\n",
       "Type_ID              584\n",
       "Genre_ID             301\n",
       "Year                  21\n",
       "IMDB_Score          1580\n",
       "Netflix_Original       0\n",
       "dtype: int64"
      ]
     },
     "execution_count": 5,
     "metadata": {},
     "output_type": "execute_result"
    }
   ],
   "source": [
    "# Count NaN values in each column\n",
    "nan_count = df.isnull().sum()\n",
    "print(\"NaN Count in Each Column:\")\n",
    "nan_count"
   ]
  },
  {
   "cell_type": "code",
   "execution_count": 6,
   "metadata": {
    "id": "wcHGMk51QUqU"
   },
   "outputs": [],
   "source": [
    "# Remove rows with at least one NaN value\n",
    "df_cleaned = df.dropna(subset=['Title', 'IMDB_Score', 'Year', 'Genre_ID'])"
   ]
  },
  {
   "cell_type": "code",
   "execution_count": 7,
   "metadata": {
    "colab": {
     "base_uri": "https://localhost:8080/",
     "height": 290
    },
    "id": "Ct7p2CNvQrGd",
    "outputId": "a356b96f-5271-496c-a4e7-90e12c9be023"
   },
   "outputs": [
    {
     "name": "stdout",
     "output_type": "stream",
     "text": [
      "NaN Count in Each Column:\n"
     ]
    },
    {
     "data": {
      "text/plain": [
       "Title                 0\n",
       "Type_ID             584\n",
       "Genre_ID              0\n",
       "Year                  0\n",
       "IMDB_Score            0\n",
       "Netflix_Original      0\n",
       "dtype: int64"
      ]
     },
     "execution_count": 7,
     "metadata": {},
     "output_type": "execute_result"
    }
   ],
   "source": [
    "# Count NaN values in each column\n",
    "nan_count_cleaned = df_cleaned.isnull().sum()\n",
    "print(\"NaN Count in Each Column:\")\n",
    "nan_count_cleaned"
   ]
  },
  {
   "cell_type": "markdown",
   "metadata": {
    "id": "bEd14o7FsCtm"
   },
   "source": [
    "fill missing values of Type ID with undefined"
   ]
  },
  {
   "cell_type": "code",
   "execution_count": 8,
   "metadata": {
    "colab": {
     "base_uri": "https://localhost:8080/",
     "height": 400
    },
    "id": "tL65HZuARqru",
    "outputId": "3209bd4d-8ce0-450a-c9ca-383d4bed5819"
   },
   "outputs": [
    {
     "name": "stdout",
     "output_type": "stream",
     "text": [
      "NaN Count in Each Column:\n"
     ]
    },
    {
     "name": "stderr",
     "output_type": "stream",
     "text": [
      "C:\\Users\\jyzel\\AppData\\Local\\Temp\\ipykernel_5716\\3291550788.py:1: SettingWithCopyWarning: \n",
      "A value is trying to be set on a copy of a slice from a DataFrame.\n",
      "Try using .loc[row_indexer,col_indexer] = value instead\n",
      "\n",
      "See the caveats in the documentation: https://pandas.pydata.org/pandas-docs/stable/user_guide/indexing.html#returning-a-view-versus-a-copy\n",
      "  df_cleaned['Type_ID'] = df_cleaned['Type_ID'].fillna('Undefined')\n"
     ]
    },
    {
     "data": {
      "text/plain": [
       "Title               0\n",
       "Type_ID             0\n",
       "Genre_ID            0\n",
       "Year                0\n",
       "IMDB_Score          0\n",
       "Netflix_Original    0\n",
       "dtype: int64"
      ]
     },
     "execution_count": 8,
     "metadata": {},
     "output_type": "execute_result"
    }
   ],
   "source": [
    "df_cleaned['Type_ID'] = df_cleaned['Type_ID'].fillna('Undefined')\n",
    "nan_count_cleaned = df_cleaned.isnull().sum()\n",
    "print(\"NaN Count in Each Column:\")\n",
    "nan_count_cleaned"
   ]
  },
  {
   "cell_type": "code",
   "execution_count": 9,
   "metadata": {
    "colab": {
     "base_uri": "https://localhost:8080/"
    },
    "id": "49vTwMqXcOon",
    "outputId": "e584d6ac-2473-4987-c32e-9f8b55999554"
   },
   "outputs": [
    {
     "data": {
      "text/plain": [
       "Index(['Title', 'Type_ID', 'Genre_ID', 'Year', 'IMDB_Score',\n",
       "       'Netflix_Original'],\n",
       "      dtype='object')"
      ]
     },
     "execution_count": 9,
     "metadata": {},
     "output_type": "execute_result"
    }
   ],
   "source": [
    "df_cleaned.columns\n"
   ]
  },
  {
   "cell_type": "markdown",
   "metadata": {
    "id": "9kpz1JMmb7sz"
   },
   "source": [
    "# 3. Mapping genres to Genre table"
   ]
  },
  {
   "cell_type": "code",
   "execution_count": 10,
   "metadata": {
    "colab": {
     "base_uri": "https://localhost:8080/",
     "height": 272
    },
    "id": "3odJ-PfFa07d",
    "outputId": "1253cb33-f6a7-4255-f533-cccbcc166cb1"
   },
   "outputs": [
    {
     "data": {
      "text/plain": [
       "Title                object\n",
       "Type_ID              object\n",
       "Genre_ID             object\n",
       "Year                 object\n",
       "IMDB_Score          float64\n",
       "Netflix_Original       bool\n",
       "dtype: object"
      ]
     },
     "execution_count": 10,
     "metadata": {},
     "output_type": "execute_result"
    }
   ],
   "source": [
    "df.dtypes"
   ]
  },
  {
   "cell_type": "code",
   "execution_count": 11,
   "metadata": {
    "colab": {
     "base_uri": "https://localhost:8080/"
    },
    "id": "WwHCgFU8bItG",
    "outputId": "72c62b0d-f858-4f39-967d-cf4db4067b30"
   },
   "outputs": [
    {
     "data": {
      "text/plain": [
       "False"
      ]
     },
     "execution_count": 11,
     "metadata": {},
     "output_type": "execute_result"
    }
   ],
   "source": [
    "df_cleaned[\"Year\"].dtype == float"
   ]
  },
  {
   "cell_type": "code",
   "execution_count": 12,
   "metadata": {
    "colab": {
     "base_uri": "https://localhost:8080/"
    },
    "id": "w7h2nNRWsgh8",
    "outputId": "f8ef9da8-9c09-4b0e-9a3d-f379de3074c8"
   },
   "outputs": [
    {
     "data": {
      "text/plain": [
       "array([False,  True])"
      ]
     },
     "execution_count": 12,
     "metadata": {},
     "output_type": "execute_result"
    }
   ],
   "source": [
    "unique_values = df_cleaned['Netflix_Original'].unique()\n",
    "unique_values"
   ]
  },
  {
   "cell_type": "code",
   "execution_count": 13,
   "metadata": {
    "colab": {
     "base_uri": "https://localhost:8080/"
    },
    "id": "i235_iMhdIn1",
    "outputId": "c344b5bd-ee4f-46b0-a4e0-436d5a4311f2"
   },
   "outputs": [
    {
     "name": "stdout",
     "output_type": "stream",
     "text": [
      "[False  True]\n"
     ]
    }
   ],
   "source": [
    "unique_values = df['Netflix_Original'].unique()\n",
    "print(unique_values)"
   ]
  },
  {
   "cell_type": "code",
   "execution_count": 14,
   "metadata": {
    "colab": {
     "base_uri": "https://localhost:8080/",
     "height": 442
    },
    "id": "9nJ4ISR4gHJN",
    "outputId": "c032d390-7c77-4b72-bc1c-68dd614e4d6f"
   },
   "outputs": [
    {
     "name": "stdout",
     "output_type": "stream",
     "text": [
      "Rows where Netflix_Original is True:\n"
     ]
    },
    {
     "data": {
      "text/html": [
       "<div>\n",
       "<style scoped>\n",
       "    .dataframe tbody tr th:only-of-type {\n",
       "        vertical-align: middle;\n",
       "    }\n",
       "\n",
       "    .dataframe tbody tr th {\n",
       "        vertical-align: top;\n",
       "    }\n",
       "\n",
       "    .dataframe thead th {\n",
       "        text-align: right;\n",
       "    }\n",
       "</style>\n",
       "<table border=\"1\" class=\"dataframe\">\n",
       "  <thead>\n",
       "    <tr style=\"text-align: right;\">\n",
       "      <th></th>\n",
       "      <th>Title</th>\n",
       "      <th>Type_ID</th>\n",
       "      <th>Genre_ID</th>\n",
       "      <th>Year</th>\n",
       "      <th>IMDB_Score</th>\n",
       "      <th>Netflix_Original</th>\n",
       "    </tr>\n",
       "  </thead>\n",
       "  <tbody>\n",
       "    <tr>\n",
       "      <th>20506</th>\n",
       "      <td>Enter the Anime</td>\n",
       "      <td>Undefined</td>\n",
       "      <td>Documentary</td>\n",
       "      <td>August 5, 2019</td>\n",
       "      <td>2.5</td>\n",
       "      <td>True</td>\n",
       "    </tr>\n",
       "    <tr>\n",
       "      <th>20507</th>\n",
       "      <td>Dark Forces</td>\n",
       "      <td>Undefined</td>\n",
       "      <td>Thriller</td>\n",
       "      <td>August 21, 2020</td>\n",
       "      <td>2.6</td>\n",
       "      <td>True</td>\n",
       "    </tr>\n",
       "    <tr>\n",
       "      <th>20508</th>\n",
       "      <td>The App</td>\n",
       "      <td>Undefined</td>\n",
       "      <td>Science fiction/Drama</td>\n",
       "      <td>December 26, 2019</td>\n",
       "      <td>2.6</td>\n",
       "      <td>True</td>\n",
       "    </tr>\n",
       "    <tr>\n",
       "      <th>20509</th>\n",
       "      <td>The Open House</td>\n",
       "      <td>Undefined</td>\n",
       "      <td>Horror thriller</td>\n",
       "      <td>January 19, 2018</td>\n",
       "      <td>3.2</td>\n",
       "      <td>True</td>\n",
       "    </tr>\n",
       "    <tr>\n",
       "      <th>20510</th>\n",
       "      <td>Kaali Khuhi</td>\n",
       "      <td>Undefined</td>\n",
       "      <td>Mystery</td>\n",
       "      <td>October 30, 2020</td>\n",
       "      <td>3.4</td>\n",
       "      <td>True</td>\n",
       "    </tr>\n",
       "    <tr>\n",
       "      <th>...</th>\n",
       "      <td>...</td>\n",
       "      <td>...</td>\n",
       "      <td>...</td>\n",
       "      <td>...</td>\n",
       "      <td>...</td>\n",
       "      <td>...</td>\n",
       "    </tr>\n",
       "    <tr>\n",
       "      <th>21085</th>\n",
       "      <td>Taylor Swift: Reputation Stadium Tour</td>\n",
       "      <td>Undefined</td>\n",
       "      <td>Concert Film</td>\n",
       "      <td>December 31, 2018</td>\n",
       "      <td>8.4</td>\n",
       "      <td>True</td>\n",
       "    </tr>\n",
       "    <tr>\n",
       "      <th>21086</th>\n",
       "      <td>Winter on Fire: Ukraine's Fight for Freedom</td>\n",
       "      <td>Undefined</td>\n",
       "      <td>Documentary</td>\n",
       "      <td>October 9, 2015</td>\n",
       "      <td>8.4</td>\n",
       "      <td>True</td>\n",
       "    </tr>\n",
       "    <tr>\n",
       "      <th>21087</th>\n",
       "      <td>Springsteen on Broadway</td>\n",
       "      <td>Undefined</td>\n",
       "      <td>One-man show</td>\n",
       "      <td>December 16, 2018</td>\n",
       "      <td>8.5</td>\n",
       "      <td>True</td>\n",
       "    </tr>\n",
       "    <tr>\n",
       "      <th>21088</th>\n",
       "      <td>Emicida: AmarElo - It's All For Yesterday</td>\n",
       "      <td>Undefined</td>\n",
       "      <td>Documentary</td>\n",
       "      <td>December 8, 2020</td>\n",
       "      <td>8.6</td>\n",
       "      <td>True</td>\n",
       "    </tr>\n",
       "    <tr>\n",
       "      <th>21089</th>\n",
       "      <td>David Attenborough: A Life on Our Planet</td>\n",
       "      <td>Undefined</td>\n",
       "      <td>Documentary</td>\n",
       "      <td>October 4, 2020</td>\n",
       "      <td>9.0</td>\n",
       "      <td>True</td>\n",
       "    </tr>\n",
       "  </tbody>\n",
       "</table>\n",
       "<p>584 rows × 6 columns</p>\n",
       "</div>"
      ],
      "text/plain": [
       "                                             Title    Type_ID  \\\n",
       "20506                              Enter the Anime  Undefined   \n",
       "20507                                  Dark Forces  Undefined   \n",
       "20508                                      The App  Undefined   \n",
       "20509                               The Open House  Undefined   \n",
       "20510                                  Kaali Khuhi  Undefined   \n",
       "...                                            ...        ...   \n",
       "21085        Taylor Swift: Reputation Stadium Tour  Undefined   \n",
       "21086  Winter on Fire: Ukraine's Fight for Freedom  Undefined   \n",
       "21087                      Springsteen on Broadway  Undefined   \n",
       "21088    Emicida: AmarElo - It's All For Yesterday  Undefined   \n",
       "21089     David Attenborough: A Life on Our Planet  Undefined   \n",
       "\n",
       "                    Genre_ID               Year  IMDB_Score  Netflix_Original  \n",
       "20506            Documentary     August 5, 2019         2.5              True  \n",
       "20507               Thriller    August 21, 2020         2.6              True  \n",
       "20508  Science fiction/Drama  December 26, 2019         2.6              True  \n",
       "20509        Horror thriller   January 19, 2018         3.2              True  \n",
       "20510                Mystery   October 30, 2020         3.4              True  \n",
       "...                      ...                ...         ...               ...  \n",
       "21085           Concert Film  December 31, 2018         8.4              True  \n",
       "21086            Documentary    October 9, 2015         8.4              True  \n",
       "21087           One-man show  December 16, 2018         8.5              True  \n",
       "21088            Documentary   December 8, 2020         8.6              True  \n",
       "21089            Documentary    October 4, 2020         9.0              True  \n",
       "\n",
       "[584 rows x 6 columns]"
      ]
     },
     "execution_count": 14,
     "metadata": {},
     "output_type": "execute_result"
    }
   ],
   "source": [
    "# Print rows where Netflix_Original is True\n",
    "netflix_original_rows = df_cleaned[df_cleaned['Netflix_Original'] == True]\n",
    "print(\"Rows where Netflix_Original is True:\")\n",
    "netflix_original_rows"
   ]
  },
  {
   "cell_type": "code",
   "execution_count": 15,
   "metadata": {
    "colab": {
     "base_uri": "https://localhost:8080/",
     "height": 460
    },
    "id": "fbVCFg81edpW",
    "outputId": "2f6dacb3-1114-4bac-bee6-5cb173aaef1f"
   },
   "outputs": [
    {
     "name": "stdout",
     "output_type": "stream",
     "text": [
      "\n",
      "Rows where Netflix_Original is False:\n"
     ]
    },
    {
     "data": {
      "text/html": [
       "<div>\n",
       "<style scoped>\n",
       "    .dataframe tbody tr th:only-of-type {\n",
       "        vertical-align: middle;\n",
       "    }\n",
       "\n",
       "    .dataframe tbody tr th {\n",
       "        vertical-align: top;\n",
       "    }\n",
       "\n",
       "    .dataframe thead th {\n",
       "        text-align: right;\n",
       "    }\n",
       "</style>\n",
       "<table border=\"1\" class=\"dataframe\">\n",
       "  <thead>\n",
       "    <tr style=\"text-align: right;\">\n",
       "      <th></th>\n",
       "      <th>Title</th>\n",
       "      <th>Type_ID</th>\n",
       "      <th>Genre_ID</th>\n",
       "      <th>Year</th>\n",
       "      <th>IMDB_Score</th>\n",
       "      <th>Netflix_Original</th>\n",
       "    </tr>\n",
       "  </thead>\n",
       "  <tbody>\n",
       "    <tr>\n",
       "      <th>0</th>\n",
       "      <td>The Fifth Element</td>\n",
       "      <td>movie</td>\n",
       "      <td>Action, Adventure, Sci-Fi</td>\n",
       "      <td>1997</td>\n",
       "      <td>7.6</td>\n",
       "      <td>False</td>\n",
       "    </tr>\n",
       "    <tr>\n",
       "      <th>1</th>\n",
       "      <td>Kill Bill: Vol. 1</td>\n",
       "      <td>movie</td>\n",
       "      <td>Action, Crime, Thriller</td>\n",
       "      <td>2003</td>\n",
       "      <td>8.2</td>\n",
       "      <td>False</td>\n",
       "    </tr>\n",
       "    <tr>\n",
       "      <th>2</th>\n",
       "      <td>Jarhead</td>\n",
       "      <td>movie</td>\n",
       "      <td>Biography, Drama, War</td>\n",
       "      <td>2005</td>\n",
       "      <td>7.0</td>\n",
       "      <td>False</td>\n",
       "    </tr>\n",
       "    <tr>\n",
       "      <th>3</th>\n",
       "      <td>Unforgiven</td>\n",
       "      <td>movie</td>\n",
       "      <td>Drama, Western</td>\n",
       "      <td>1992</td>\n",
       "      <td>8.2</td>\n",
       "      <td>False</td>\n",
       "    </tr>\n",
       "    <tr>\n",
       "      <th>4</th>\n",
       "      <td>Eternal Sunshine of the Spotless Mind</td>\n",
       "      <td>movie</td>\n",
       "      <td>Drama, Romance, Sci-Fi</td>\n",
       "      <td>2004</td>\n",
       "      <td>8.3</td>\n",
       "      <td>False</td>\n",
       "    </tr>\n",
       "    <tr>\n",
       "      <th>...</th>\n",
       "      <td>...</td>\n",
       "      <td>...</td>\n",
       "      <td>...</td>\n",
       "      <td>...</td>\n",
       "      <td>...</td>\n",
       "      <td>...</td>\n",
       "    </tr>\n",
       "    <tr>\n",
       "      <th>20478</th>\n",
       "      <td>Nevertheless: The Shapes of Love</td>\n",
       "      <td>tv</td>\n",
       "      <td>Romance</td>\n",
       "      <td>2024</td>\n",
       "      <td>8.0</td>\n",
       "      <td>False</td>\n",
       "    </tr>\n",
       "    <tr>\n",
       "      <th>20488</th>\n",
       "      <td>S.E.R.E.G.</td>\n",
       "      <td>tv</td>\n",
       "      <td>Action</td>\n",
       "      <td>2024</td>\n",
       "      <td>3.8</td>\n",
       "      <td>False</td>\n",
       "    </tr>\n",
       "    <tr>\n",
       "      <th>20491</th>\n",
       "      <td>The Later Daters</td>\n",
       "      <td>tv</td>\n",
       "      <td>Reality-TV, Romance</td>\n",
       "      <td>2024</td>\n",
       "      <td>7.0</td>\n",
       "      <td>False</td>\n",
       "    </tr>\n",
       "    <tr>\n",
       "      <th>20494</th>\n",
       "      <td>The Kings of Tupelo: A Southern Crime Saga</td>\n",
       "      <td>tv</td>\n",
       "      <td>Crime, Documentary</td>\n",
       "      <td>2024</td>\n",
       "      <td>6.6</td>\n",
       "      <td>False</td>\n",
       "    </tr>\n",
       "    <tr>\n",
       "      <th>20501</th>\n",
       "      <td>Das Boot - Die komplette TV-Serie</td>\n",
       "      <td>tv</td>\n",
       "      <td>Drama, War</td>\n",
       "      <td>1985</td>\n",
       "      <td>8.7</td>\n",
       "      <td>False</td>\n",
       "    </tr>\n",
       "  </tbody>\n",
       "</table>\n",
       "<p>18926 rows × 6 columns</p>\n",
       "</div>"
      ],
      "text/plain": [
       "                                            Title Type_ID  \\\n",
       "0                               The Fifth Element   movie   \n",
       "1                               Kill Bill: Vol. 1   movie   \n",
       "2                                         Jarhead   movie   \n",
       "3                                      Unforgiven   movie   \n",
       "4           Eternal Sunshine of the Spotless Mind   movie   \n",
       "...                                           ...     ...   \n",
       "20478            Nevertheless: The Shapes of Love      tv   \n",
       "20488                                  S.E.R.E.G.      tv   \n",
       "20491                            The Later Daters      tv   \n",
       "20494  The Kings of Tupelo: A Southern Crime Saga      tv   \n",
       "20501           Das Boot - Die komplette TV-Serie      tv   \n",
       "\n",
       "                        Genre_ID  Year  IMDB_Score  Netflix_Original  \n",
       "0      Action, Adventure, Sci-Fi  1997         7.6             False  \n",
       "1        Action, Crime, Thriller  2003         8.2             False  \n",
       "2          Biography, Drama, War  2005         7.0             False  \n",
       "3                 Drama, Western  1992         8.2             False  \n",
       "4         Drama, Romance, Sci-Fi  2004         8.3             False  \n",
       "...                          ...   ...         ...               ...  \n",
       "20478                    Romance  2024         8.0             False  \n",
       "20488                     Action  2024         3.8             False  \n",
       "20491        Reality-TV, Romance  2024         7.0             False  \n",
       "20494         Crime, Documentary  2024         6.6             False  \n",
       "20501                 Drama, War  1985         8.7             False  \n",
       "\n",
       "[18926 rows x 6 columns]"
      ]
     },
     "execution_count": 15,
     "metadata": {},
     "output_type": "execute_result"
    }
   ],
   "source": [
    "# Print a few rows where Netflix_Original is False\n",
    "non_netflix_original_rows = df_cleaned[df_cleaned['Netflix_Original'] == False] # Get the first 5 rows\n",
    "print(\"\\nRows where Netflix_Original is False:\")\n",
    "non_netflix_original_rows"
   ]
  },
  {
   "cell_type": "code",
   "execution_count": 16,
   "metadata": {
    "id": "gPA31xJpuGo6"
   },
   "outputs": [],
   "source": [
    "genre_df = pd.read_excel('C:/.Fichiers/.Révision/.Junior/BI & DBM/BI project/Datasets/Raw/Movie & Ratings/Genres.xlsx')\n"
   ]
  },
  {
   "cell_type": "code",
   "execution_count": 17,
   "metadata": {
    "colab": {
     "base_uri": "https://localhost:8080/",
     "height": 423
    },
    "id": "9VyG2f-uwSfs",
    "outputId": "dbb2e986-d25a-4edd-9cde-343289e49481"
   },
   "outputs": [
    {
     "data": {
      "text/html": [
       "<div>\n",
       "<style scoped>\n",
       "    .dataframe tbody tr th:only-of-type {\n",
       "        vertical-align: middle;\n",
       "    }\n",
       "\n",
       "    .dataframe tbody tr th {\n",
       "        vertical-align: top;\n",
       "    }\n",
       "\n",
       "    .dataframe thead th {\n",
       "        text-align: right;\n",
       "    }\n",
       "</style>\n",
       "<table border=\"1\" class=\"dataframe\">\n",
       "  <thead>\n",
       "    <tr style=\"text-align: right;\">\n",
       "      <th></th>\n",
       "      <th>Genre ID</th>\n",
       "      <th>Genre</th>\n",
       "    </tr>\n",
       "  </thead>\n",
       "  <tbody>\n",
       "    <tr>\n",
       "      <th>0</th>\n",
       "      <td>1</td>\n",
       "      <td>Action</td>\n",
       "    </tr>\n",
       "    <tr>\n",
       "      <th>1</th>\n",
       "      <td>2</td>\n",
       "      <td>Action &amp; Adventure</td>\n",
       "    </tr>\n",
       "    <tr>\n",
       "      <th>2</th>\n",
       "      <td>3</td>\n",
       "      <td>Action comedy</td>\n",
       "    </tr>\n",
       "    <tr>\n",
       "      <th>3</th>\n",
       "      <td>4</td>\n",
       "      <td>Action thriller</td>\n",
       "    </tr>\n",
       "    <tr>\n",
       "      <th>4</th>\n",
       "      <td>6</td>\n",
       "      <td>Action-thriller</td>\n",
       "    </tr>\n",
       "    <tr>\n",
       "      <th>...</th>\n",
       "      <td>...</td>\n",
       "      <td>...</td>\n",
       "    </tr>\n",
       "    <tr>\n",
       "      <th>101</th>\n",
       "      <td>108</td>\n",
       "      <td>War &amp; Politics</td>\n",
       "    </tr>\n",
       "    <tr>\n",
       "      <th>102</th>\n",
       "      <td>109</td>\n",
       "      <td>War drama</td>\n",
       "    </tr>\n",
       "    <tr>\n",
       "      <th>103</th>\n",
       "      <td>110</td>\n",
       "      <td>War-Comedy</td>\n",
       "    </tr>\n",
       "    <tr>\n",
       "      <th>104</th>\n",
       "      <td>111</td>\n",
       "      <td>Western</td>\n",
       "    </tr>\n",
       "    <tr>\n",
       "      <th>105</th>\n",
       "      <td>112</td>\n",
       "      <td>Zombie</td>\n",
       "    </tr>\n",
       "  </tbody>\n",
       "</table>\n",
       "<p>106 rows × 2 columns</p>\n",
       "</div>"
      ],
      "text/plain": [
       "     Genre ID               Genre\n",
       "0           1              Action\n",
       "1           2  Action & Adventure\n",
       "2           3       Action comedy\n",
       "3           4     Action thriller\n",
       "4           6     Action-thriller\n",
       "..        ...                 ...\n",
       "101       108      War & Politics\n",
       "102       109           War drama\n",
       "103       110          War-Comedy\n",
       "104       111             Western\n",
       "105       112              Zombie\n",
       "\n",
       "[106 rows x 2 columns]"
      ]
     },
     "execution_count": 17,
     "metadata": {},
     "output_type": "execute_result"
    }
   ],
   "source": [
    "genre_df"
   ]
  },
  {
   "cell_type": "code",
   "execution_count": 18,
   "metadata": {
    "colab": {
     "base_uri": "https://localhost:8080/"
    },
    "id": "3tPNb39qvnFY",
    "outputId": "103ff045-eeb0-46c9-847c-9f75e79c7dc8"
   },
   "outputs": [
    {
     "name": "stderr",
     "output_type": "stream",
     "text": [
      "C:\\Users\\jyzel\\AppData\\Local\\Temp\\ipykernel_5716\\1351056982.py:2: SettingWithCopyWarning: \n",
      "A value is trying to be set on a copy of a slice from a DataFrame.\n",
      "Try using .loc[row_indexer,col_indexer] = value instead\n",
      "\n",
      "See the caveats in the documentation: https://pandas.pydata.org/pandas-docs/stable/user_guide/indexing.html#returning-a-view-versus-a-copy\n",
      "  df_cleaned[\"Main_Genre\"] = df_cleaned[\"Genre_ID\"].apply(lambda x: x.split(\",\")[0].strip())\n"
     ]
    }
   ],
   "source": [
    "# Step 1: Extract the main genre (first genre)\n",
    "df_cleaned[\"Main_Genre\"] = df_cleaned[\"Genre_ID\"].apply(lambda x: x.split(\",\")[0].strip())"
   ]
  },
  {
   "cell_type": "code",
   "execution_count": 19,
   "metadata": {
    "colab": {
     "base_uri": "https://localhost:8080/"
    },
    "id": "BhwG_IIZxS44",
    "outputId": "4a822168-bd03-4cbf-dfbe-152d8ebc3a99"
   },
   "outputs": [
    {
     "name": "stderr",
     "output_type": "stream",
     "text": [
      "C:\\Users\\jyzel\\AppData\\Local\\Temp\\ipykernel_5716\\407235835.py:3: SettingWithCopyWarning: \n",
      "A value is trying to be set on a copy of a slice from a DataFrame.\n",
      "Try using .loc[row_indexer,col_indexer] = value instead\n",
      "\n",
      "See the caveats in the documentation: https://pandas.pydata.org/pandas-docs/stable/user_guide/indexing.html#returning-a-view-versus-a-copy\n",
      "  df_cleaned[\"Mapped_Genre_ID\"] = df_cleaned[\"Main_Genre\"].map(genre_mapping)\n"
     ]
    }
   ],
   "source": [
    "# Step 2: Map the main genre to the Genre ID\n",
    "genre_mapping = genre_df.set_index(\"Genre\")[\"Genre ID\"].to_dict()\n",
    "df_cleaned[\"Mapped_Genre_ID\"] = df_cleaned[\"Main_Genre\"].map(genre_mapping)\n"
   ]
  },
  {
   "cell_type": "code",
   "execution_count": 20,
   "metadata": {
    "colab": {
     "base_uri": "https://localhost:8080/"
    },
    "id": "NwOu1h_9n_ji",
    "outputId": "a4eda905-cac1-4fc9-beed-350d365c2343"
   },
   "outputs": [
    {
     "data": {
      "text/plain": [
       "{'Action': 1,\n",
       " 'Action & Adventure': 2,\n",
       " 'Action comedy': 3,\n",
       " 'Action thriller': 4,\n",
       " 'Action-thriller': 6,\n",
       " 'Adult': 7,\n",
       " 'Adventure': 8,\n",
       " 'Adventure-romance': 9,\n",
       " 'Aftershow': 10,\n",
       " 'Animated musical comedy': 11,\n",
       " 'Animation': 12,\n",
       " 'Anime': 13,\n",
       " 'Anthology': 14,\n",
       " 'Biographical': 15,\n",
       " 'Biography': 16,\n",
       " 'Biopic': 17,\n",
       " 'Black comedy': 18,\n",
       " 'Christian musical': 19,\n",
       " 'Christmas': 20,\n",
       " 'Christmas comedy': 21,\n",
       " 'Christmas musical': 22,\n",
       " 'Comedy': 23,\n",
       " 'Comedy horror': 24,\n",
       " 'Comedy mystery': 25,\n",
       " 'Comedy-drama': 26,\n",
       " 'Coming-of-age comedy-drama': 27,\n",
       " 'Concert Film': 28,\n",
       " 'Crime': 29,\n",
       " 'Crime drama': 30,\n",
       " 'Crime thriller': 31,\n",
       " 'Dance comedy': 32,\n",
       " 'Dark comedy': 33,\n",
       " 'Documentary': 34,\n",
       " 'Drama': 35,\n",
       " 'Drama-Comedy': 36,\n",
       " 'Family': 37,\n",
       " 'Family film': 39,\n",
       " 'Fantasy': 40,\n",
       " 'Film-Noir': 41,\n",
       " 'Game-Show': 42,\n",
       " 'Heist': 43,\n",
       " 'Heist film': 44,\n",
       " 'Hidden-camera prank comedy': 45,\n",
       " 'Historical drama': 46,\n",
       " 'Historical-epic': 47,\n",
       " 'History': 48,\n",
       " 'Holiday': 49,\n",
       " 'Horror': 50,\n",
       " 'Horror anthology': 51,\n",
       " 'Horror comedy': 52,\n",
       " 'Horror thriller': 53,\n",
       " 'Interview': 55,\n",
       " 'Kids': 56,\n",
       " 'Making-of': 57,\n",
       " 'Mentalism special': 58,\n",
       " 'Mockumentary': 59,\n",
       " 'Music': 60,\n",
       " 'Musical': 61,\n",
       " 'Musical comedy': 62,\n",
       " 'Mystery': 64,\n",
       " 'News': 65,\n",
       " 'One-man show': 66,\n",
       " 'Political thriller': 67,\n",
       " 'Psychological horror': 68,\n",
       " 'Psychological thriller': 69,\n",
       " 'Psychological thriller drama': 70,\n",
       " 'Reality': 71,\n",
       " 'Reality-TV': 72,\n",
       " 'Romance': 73,\n",
       " 'Romance drama': 74,\n",
       " 'Romantic comedy': 75,\n",
       " 'Romantic comedy-drama': 76,\n",
       " 'Romantic drama': 77,\n",
       " 'Romantic teen drama': 79,\n",
       " 'Romantic teenage drama': 79,\n",
       " 'Romantic thriller': 80,\n",
       " 'Satire': 81,\n",
       " 'Sci-Fi': 82,\n",
       " 'Sci-Fi & Fantasy': 83,\n",
       " 'Science Fiction': 84,\n",
       " 'Science fiction adventure': 86,\n",
       " 'Science fiction thriller': 87,\n",
       " 'Short': 88,\n",
       " 'Soap': 89,\n",
       " 'Sport': 90,\n",
       " 'Sports film': 91,\n",
       " 'Sports-drama': 92,\n",
       " 'Spy thriller': 93,\n",
       " 'Stop Motion': 94,\n",
       " 'Superhero': 95,\n",
       " 'Superhero-Comedy': 96,\n",
       " 'Supernatural drama': 97,\n",
       " 'TV Movie': 98,\n",
       " 'Talk': 99,\n",
       " 'Talk-Show': 100,\n",
       " 'Teen comedy horror': 101,\n",
       " 'Teen comedy-drama': 102,\n",
       " 'Thriller': 103,\n",
       " 'Urban fantasy': 104,\n",
       " 'Variety Show': 105,\n",
       " 'War': 107,\n",
       " 'War & Politics': 108,\n",
       " 'War drama': 109,\n",
       " 'War-Comedy': 110,\n",
       " 'Western': 111,\n",
       " 'Zombie': 112}"
      ]
     },
     "execution_count": 20,
     "metadata": {},
     "output_type": "execute_result"
    }
   ],
   "source": [
    "genre_mapping"
   ]
  },
  {
   "cell_type": "code",
   "execution_count": 21,
   "metadata": {
    "colab": {
     "base_uri": "https://localhost:8080/"
    },
    "id": "hP97ZLkqxU18",
    "outputId": "af520a3b-5e45-42fb-d9a0-2dc90b9d8c1d"
   },
   "outputs": [
    {
     "name": "stderr",
     "output_type": "stream",
     "text": [
      "C:\\Users\\jyzel\\AppData\\Local\\Temp\\ipykernel_5716\\2482456747.py:2: FutureWarning: A value is trying to be set on a copy of a DataFrame or Series through chained assignment using an inplace method.\n",
      "The behavior will change in pandas 3.0. This inplace method will never work because the intermediate object on which we are setting values always behaves as a copy.\n",
      "\n",
      "For example, when doing 'df[col].method(value, inplace=True)', try using 'df.method({col: value}, inplace=True)' or df[col] = df[col].method(value) instead, to perform the operation inplace on the original object.\n",
      "\n",
      "\n",
      "  df_cleaned[\"Mapped_Genre_ID\"].fillna(\"Other\", inplace=True)\n",
      "C:\\Users\\jyzel\\AppData\\Local\\Temp\\ipykernel_5716\\2482456747.py:2: FutureWarning: Setting an item of incompatible dtype is deprecated and will raise an error in a future version of pandas. Value 'Other' has dtype incompatible with float64, please explicitly cast to a compatible dtype first.\n",
      "  df_cleaned[\"Mapped_Genre_ID\"].fillna(\"Other\", inplace=True)\n",
      "C:\\Users\\jyzel\\AppData\\Local\\Temp\\ipykernel_5716\\2482456747.py:2: SettingWithCopyWarning: \n",
      "A value is trying to be set on a copy of a slice from a DataFrame\n",
      "\n",
      "See the caveats in the documentation: https://pandas.pydata.org/pandas-docs/stable/user_guide/indexing.html#returning-a-view-versus-a-copy\n",
      "  df_cleaned[\"Mapped_Genre_ID\"].fillna(\"Other\", inplace=True)\n"
     ]
    }
   ],
   "source": [
    "# Step 3: Handle unmatched genres (optional)\n",
    "df_cleaned[\"Mapped_Genre_ID\"].fillna(\"Other\", inplace=True)\n"
   ]
  },
  {
   "cell_type": "code",
   "execution_count": 22,
   "metadata": {
    "colab": {
     "base_uri": "https://localhost:8080/"
    },
    "id": "Mz-UXa8CxWd2",
    "outputId": "08ab3b11-0ddb-4853-c72e-5de029df4553"
   },
   "outputs": [
    {
     "data": {
      "text/plain": [
       "array([1.0, 16.0, 35.0, 8.0, 29.0, 23.0, 64.0, 12.0, 50.0, 34.0, 40.0,\n",
       "       82.0, 103.0, 73.0, 37.0, 60.0, 107.0, 111.0, 61.0, 90.0, 48.0,\n",
       "       72.0, 88.0, 100.0, 42.0, 'Other', 53.0, 75.0, 3.0, 51.0, 67.0,\n",
       "       96.0, 74.0, 95.0, 43.0, 39.0, 6.0, 102.0, 77.0, 22.0, 86.0, 26.0,\n",
       "       97.0, 79.0, 30.0, 70.0, 18.0, 52.0, 19.0, 33.0, 24.0, 69.0, 17.0,\n",
       "       59.0, 81.0, 66.0, 76.0, 92.0, 68.0, 91.0, 25.0, 80.0, 21.0, 110.0,\n",
       "       9.0, 32.0, 94.0, 104.0, 31.0, 101.0, 28.0, 62.0, 4.0, 109.0, 87.0,\n",
       "       45.0, 93.0, 11.0, 105.0, 47.0, 58.0, 36.0, 27.0, 46.0, 57.0],\n",
       "      dtype=object)"
      ]
     },
     "execution_count": 22,
     "metadata": {},
     "output_type": "execute_result"
    }
   ],
   "source": [
    "df_cleaned[\"Mapped_Genre_ID\"].unique()"
   ]
  },
  {
   "cell_type": "code",
   "execution_count": 23,
   "metadata": {
    "colab": {
     "base_uri": "https://localhost:8080/",
     "height": 489
    },
    "id": "hGGL7wXb21vi",
    "outputId": "b7b89524-83a7-4590-b9f2-3154755fbd09"
   },
   "outputs": [
    {
     "data": {
      "text/plain": [
       "Mapped_Genre_ID\n",
       "23.0     5328\n",
       "35.0     3958\n",
       "1.0      3249\n",
       "29.0     1391\n",
       "34.0     1328\n",
       "         ... \n",
       "105.0       1\n",
       "58.0        1\n",
       "36.0        1\n",
       "27.0        1\n",
       "46.0        1\n",
       "Name: count, Length: 85, dtype: int64"
      ]
     },
     "execution_count": 23,
     "metadata": {},
     "output_type": "execute_result"
    }
   ],
   "source": [
    "unique_counts = df_cleaned[\"Mapped_Genre_ID\"].value_counts()\n",
    "unique_counts"
   ]
  },
  {
   "cell_type": "markdown",
   "metadata": {
    "id": "BaC6OaHp3siW"
   },
   "source": [
    "count how many rows that haven't been mapped to a proper genre"
   ]
  },
  {
   "cell_type": "code",
   "execution_count": 24,
   "metadata": {
    "colab": {
     "base_uri": "https://localhost:8080/"
    },
    "id": "hrw2P1jE3Lb2",
    "outputId": "620053a7-ff4e-4b58-c62e-91e062b2bfc3"
   },
   "outputs": [
    {
     "data": {
      "text/plain": [
       "np.int64(62)"
      ]
     },
     "execution_count": 24,
     "metadata": {},
     "output_type": "execute_result"
    }
   ],
   "source": [
    "other_count = df_cleaned[\"Mapped_Genre_ID\"].value_counts().get(\"Other\", 0)\n",
    "other_count"
   ]
  },
  {
   "cell_type": "markdown",
   "metadata": {
    "id": "bsn86-WG3qH0"
   },
   "source": [
    "Drop rows where \"Mapped_Genre_ID\" is \"Other\""
   ]
  },
  {
   "cell_type": "code",
   "execution_count": 25,
   "metadata": {
    "id": "F0RAW7LH3WtH"
   },
   "outputs": [],
   "source": [
    "df_cleaned = df_cleaned[df_cleaned[\"Mapped_Genre_ID\"] != \"Other\"]\n",
    "\n",
    "# Reset the index (optional, to clean up the index after dropping rows)\n",
    "df_cleaned.reset_index(drop=True, inplace=True)\n"
   ]
  },
  {
   "cell_type": "code",
   "execution_count": 26,
   "metadata": {
    "colab": {
     "base_uri": "https://localhost:8080/"
    },
    "id": "fqKCnJ29njrH",
    "outputId": "f9713ada-afca-4334-c42d-9ff742c60a68"
   },
   "outputs": [],
   "source": [
    "df_cleaned[\"Mapped_Genre_ID\"] = df_cleaned[\"Mapped_Genre_ID\"].astype(int)\n"
   ]
  },
  {
   "cell_type": "code",
   "execution_count": 27,
   "metadata": {
    "colab": {
     "base_uri": "https://localhost:8080/",
     "height": 423
    },
    "id": "v5SntNc4Rs6y",
    "outputId": "99824a0e-117e-414f-911f-737546a4c1ca"
   },
   "outputs": [
    {
     "data": {
      "text/html": [
       "<div>\n",
       "<style scoped>\n",
       "    .dataframe tbody tr th:only-of-type {\n",
       "        vertical-align: middle;\n",
       "    }\n",
       "\n",
       "    .dataframe tbody tr th {\n",
       "        vertical-align: top;\n",
       "    }\n",
       "\n",
       "    .dataframe thead th {\n",
       "        text-align: right;\n",
       "    }\n",
       "</style>\n",
       "<table border=\"1\" class=\"dataframe\">\n",
       "  <thead>\n",
       "    <tr style=\"text-align: right;\">\n",
       "      <th></th>\n",
       "      <th>Title</th>\n",
       "      <th>Type_ID</th>\n",
       "      <th>Genre_ID</th>\n",
       "      <th>Year</th>\n",
       "      <th>IMDB_Score</th>\n",
       "      <th>Netflix_Original</th>\n",
       "      <th>Main_Genre</th>\n",
       "      <th>Mapped_Genre_ID</th>\n",
       "    </tr>\n",
       "  </thead>\n",
       "  <tbody>\n",
       "    <tr>\n",
       "      <th>0</th>\n",
       "      <td>The Fifth Element</td>\n",
       "      <td>movie</td>\n",
       "      <td>Action, Adventure, Sci-Fi</td>\n",
       "      <td>1997</td>\n",
       "      <td>7.6</td>\n",
       "      <td>False</td>\n",
       "      <td>Action</td>\n",
       "      <td>1</td>\n",
       "    </tr>\n",
       "    <tr>\n",
       "      <th>1</th>\n",
       "      <td>Kill Bill: Vol. 1</td>\n",
       "      <td>movie</td>\n",
       "      <td>Action, Crime, Thriller</td>\n",
       "      <td>2003</td>\n",
       "      <td>8.2</td>\n",
       "      <td>False</td>\n",
       "      <td>Action</td>\n",
       "      <td>1</td>\n",
       "    </tr>\n",
       "    <tr>\n",
       "      <th>2</th>\n",
       "      <td>Jarhead</td>\n",
       "      <td>movie</td>\n",
       "      <td>Biography, Drama, War</td>\n",
       "      <td>2005</td>\n",
       "      <td>7.0</td>\n",
       "      <td>False</td>\n",
       "      <td>Biography</td>\n",
       "      <td>16</td>\n",
       "    </tr>\n",
       "    <tr>\n",
       "      <th>3</th>\n",
       "      <td>Unforgiven</td>\n",
       "      <td>movie</td>\n",
       "      <td>Drama, Western</td>\n",
       "      <td>1992</td>\n",
       "      <td>8.2</td>\n",
       "      <td>False</td>\n",
       "      <td>Drama</td>\n",
       "      <td>35</td>\n",
       "    </tr>\n",
       "    <tr>\n",
       "      <th>4</th>\n",
       "      <td>Eternal Sunshine of the Spotless Mind</td>\n",
       "      <td>movie</td>\n",
       "      <td>Drama, Romance, Sci-Fi</td>\n",
       "      <td>2004</td>\n",
       "      <td>8.3</td>\n",
       "      <td>False</td>\n",
       "      <td>Drama</td>\n",
       "      <td>35</td>\n",
       "    </tr>\n",
       "    <tr>\n",
       "      <th>...</th>\n",
       "      <td>...</td>\n",
       "      <td>...</td>\n",
       "      <td>...</td>\n",
       "      <td>...</td>\n",
       "      <td>...</td>\n",
       "      <td>...</td>\n",
       "      <td>...</td>\n",
       "      <td>...</td>\n",
       "    </tr>\n",
       "    <tr>\n",
       "      <th>19443</th>\n",
       "      <td>Taylor Swift: Reputation Stadium Tour</td>\n",
       "      <td>Undefined</td>\n",
       "      <td>Concert Film</td>\n",
       "      <td>December 31, 2018</td>\n",
       "      <td>8.4</td>\n",
       "      <td>True</td>\n",
       "      <td>Concert Film</td>\n",
       "      <td>28</td>\n",
       "    </tr>\n",
       "    <tr>\n",
       "      <th>19444</th>\n",
       "      <td>Winter on Fire: Ukraine's Fight for Freedom</td>\n",
       "      <td>Undefined</td>\n",
       "      <td>Documentary</td>\n",
       "      <td>October 9, 2015</td>\n",
       "      <td>8.4</td>\n",
       "      <td>True</td>\n",
       "      <td>Documentary</td>\n",
       "      <td>34</td>\n",
       "    </tr>\n",
       "    <tr>\n",
       "      <th>19445</th>\n",
       "      <td>Springsteen on Broadway</td>\n",
       "      <td>Undefined</td>\n",
       "      <td>One-man show</td>\n",
       "      <td>December 16, 2018</td>\n",
       "      <td>8.5</td>\n",
       "      <td>True</td>\n",
       "      <td>One-man show</td>\n",
       "      <td>66</td>\n",
       "    </tr>\n",
       "    <tr>\n",
       "      <th>19446</th>\n",
       "      <td>Emicida: AmarElo - It's All For Yesterday</td>\n",
       "      <td>Undefined</td>\n",
       "      <td>Documentary</td>\n",
       "      <td>December 8, 2020</td>\n",
       "      <td>8.6</td>\n",
       "      <td>True</td>\n",
       "      <td>Documentary</td>\n",
       "      <td>34</td>\n",
       "    </tr>\n",
       "    <tr>\n",
       "      <th>19447</th>\n",
       "      <td>David Attenborough: A Life on Our Planet</td>\n",
       "      <td>Undefined</td>\n",
       "      <td>Documentary</td>\n",
       "      <td>October 4, 2020</td>\n",
       "      <td>9.0</td>\n",
       "      <td>True</td>\n",
       "      <td>Documentary</td>\n",
       "      <td>34</td>\n",
       "    </tr>\n",
       "  </tbody>\n",
       "</table>\n",
       "<p>19448 rows × 8 columns</p>\n",
       "</div>"
      ],
      "text/plain": [
       "                                             Title    Type_ID  \\\n",
       "0                                The Fifth Element      movie   \n",
       "1                                Kill Bill: Vol. 1      movie   \n",
       "2                                          Jarhead      movie   \n",
       "3                                       Unforgiven      movie   \n",
       "4            Eternal Sunshine of the Spotless Mind      movie   \n",
       "...                                            ...        ...   \n",
       "19443        Taylor Swift: Reputation Stadium Tour  Undefined   \n",
       "19444  Winter on Fire: Ukraine's Fight for Freedom  Undefined   \n",
       "19445                      Springsteen on Broadway  Undefined   \n",
       "19446    Emicida: AmarElo - It's All For Yesterday  Undefined   \n",
       "19447     David Attenborough: A Life on Our Planet  Undefined   \n",
       "\n",
       "                        Genre_ID               Year  IMDB_Score  \\\n",
       "0      Action, Adventure, Sci-Fi               1997         7.6   \n",
       "1        Action, Crime, Thriller               2003         8.2   \n",
       "2          Biography, Drama, War               2005         7.0   \n",
       "3                 Drama, Western               1992         8.2   \n",
       "4         Drama, Romance, Sci-Fi               2004         8.3   \n",
       "...                          ...                ...         ...   \n",
       "19443               Concert Film  December 31, 2018         8.4   \n",
       "19444                Documentary    October 9, 2015         8.4   \n",
       "19445               One-man show  December 16, 2018         8.5   \n",
       "19446                Documentary   December 8, 2020         8.6   \n",
       "19447                Documentary    October 4, 2020         9.0   \n",
       "\n",
       "       Netflix_Original    Main_Genre  Mapped_Genre_ID  \n",
       "0                 False        Action                1  \n",
       "1                 False        Action                1  \n",
       "2                 False     Biography               16  \n",
       "3                 False         Drama               35  \n",
       "4                 False         Drama               35  \n",
       "...                 ...           ...              ...  \n",
       "19443              True  Concert Film               28  \n",
       "19444              True   Documentary               34  \n",
       "19445              True  One-man show               66  \n",
       "19446              True   Documentary               34  \n",
       "19447              True   Documentary               34  \n",
       "\n",
       "[19448 rows x 8 columns]"
      ]
     },
     "execution_count": 27,
     "metadata": {},
     "output_type": "execute_result"
    }
   ],
   "source": [
    "df_cleaned"
   ]
  },
  {
   "cell_type": "code",
   "execution_count": 28,
   "metadata": {
    "colab": {
     "base_uri": "https://localhost:8080/",
     "height": 526
    },
    "id": "qMCTF1e-4nsD",
    "outputId": "78e5df43-e280-444c-e944-49b7f350470c"
   },
   "outputs": [
    {
     "data": {
      "image/png": "[encoded data removed]",
      "text/plain": [
       "<Figure size 2500x1000 with 1 Axes>"
      ]
     },
     "metadata": {},
     "output_type": "display_data"
    }
   ],
   "source": [
    "import numpy as np\n",
    "import matplotlib.pyplot as plt\n",
    "genre_counts = df_cleaned[\"Main_Genre\"].value_counts()\n",
    "\n",
    "# Plot the genres\n",
    "plt.figure(figsize=(25, 10))\n",
    "\n",
    "# Custom x positions for spaced labels\n",
    "x_positions = np.arange(len(genre_counts.index)) * 1.5  # Increase spacing\n",
    "\n",
    "# Create the bar chart\n",
    "plt.bar(x_positions, genre_counts.values, width=1.0, color='skyblue')  # Bars aligned with custom x positions\n",
    "plt.xticks(x_positions, genre_counts.index, rotation=90, ha='right')  # Apply the custom positions to labels\n",
    "\n",
    "# Add labels and title\n",
    "plt.xlabel(\"Genres\", fontsize=12)\n",
    "plt.ylabel(\"Number of Movies\", fontsize=12)\n",
    "plt.title(\"Distribution of Movies Across Genres\", fontsize=14)\n",
    "plt.grid(axis='y', linestyle='--', alpha=0.7)\n",
    "\n",
    "plt.tight_layout()\n",
    "\n",
    "# Show the plot\n",
    "plt.show()"
   ]
  },
  {
   "cell_type": "markdown",
   "metadata": {
    "id": "wVnJ9CUf6dcq"
   },
   "source": [
    "#4. Cleaning years"
   ]
  },
  {
   "cell_type": "code",
   "execution_count": 29,
   "metadata": {
    "colab": {
     "base_uri": "https://localhost:8080/"
    },
    "id": "9Z5_T0905Mh1",
    "outputId": "643af6ea-63ff-4c5e-8bbc-87bc59a164ca"
   },
   "outputs": [
    {
     "data": {
      "text/plain": [
       "array(['1997', '2003', '2005', '1992', '2004', '2000', '1968', '2002',\n",
       "       '1998', '1996', '1995', '1984', '1981', '1987', '1989', '1999',\n",
       "       '1994', '1976', '1983', '2001', '1993', '1988', '2008', '2014',\n",
       "       '1986', '1953', '2006', '1972', '1974', '1991', '2007', '1964',\n",
       "       '1955', '1956', '1957', '1951', '1975', '2009', '1960', '1950',\n",
       "       '1963', '1978', '1979', '1982', '1969', '1990', '1966', '1980',\n",
       "       '1977', '1962', '1985', '1965', '1967', '2012', '1971', '1959',\n",
       "       '1970', '1961', '2013', '1973', '1952', '2010', '1954', '2011',\n",
       "       '1948', '1945', '1932', '1942', '1929', '1958', '1937', '1939',\n",
       "       '1946', '1919', '1943', '1938', '1949', '2021', '1947', '1928',\n",
       "       '1931', '2020', '2016', '1936', '2017', '2022', '2024', '2023',\n",
       "       '2018', '2015', '2019', '1920', '1926', '1935', '1918', '1940',\n",
       "       '1944', '1917', '1934', '1941', '1913', '1923', '1933', '1930',\n",
       "       '1921', 'August 5, 2019', 'August 21, 2020', 'January 19, 2018',\n",
       "       'October 30, 2020', 'November 1, 2019', 'December 4, 2020',\n",
       "       'May 18, 2021', 'April 22, 2021', 'November 27, 2020',\n",
       "       'September 18, 2020', 'October 1, 2020', 'November 22, 2016',\n",
       "       'December 19, 2019', 'January 1, 2020', 'February 21, 2020',\n",
       "       'January 1, 2021', 'August 25, 2017', 'September 13, 2019',\n",
       "       'July 18, 2019', 'August 16, 2019', 'February 26, 2021',\n",
       "       'April 9, 2021', 'July 16, 2020', 'April 2, 2021', 'July 31, 2020',\n",
       "       'February 10, 2021', 'December 7, 2018', 'May 24, 2019',\n",
       "       'October 28, 2016', 'February 22, 2019', 'December 3, 2019',\n",
       "       'October 25, 2019', 'July 15, 2020', 'July 14, 2020',\n",
       "       'November 30, 2020', 'March 5, 2021', 'October 2, 2020',\n",
       "       'December 25, 2020', 'January 6, 2017', 'May 1, 2020',\n",
       "       'October 28, 2020', 'January 20, 2017', 'April 10, 2020',\n",
       "       'December 11, 2015', 'April 17, 2020', 'November 28, 2019',\n",
       "       'January 23, 2020', 'July 13, 2018', 'October 15, 2020',\n",
       "       'July 15, 2016', 'February 11, 2021', 'October 22, 2020',\n",
       "       'January 13, 2017', 'April 3, 2020', 'April 20, 2018',\n",
       "       'February 25, 2021', 'July 23, 2020', 'September 8, 2017',\n",
       "       'July 3, 2020', 'November 22, 2020', 'July 20, 2018',\n",
       "       'May 26, 2021', 'February 14, 2017', 'May 5, 2017',\n",
       "       'October 7, 2020', 'May 25, 2018', 'April 14, 2017',\n",
       "       'February 5, 2021', 'April 27, 2018', 'November 30, 2018',\n",
       "       'August 30, 2019', 'April 30, 2020', 'August 12, 2020',\n",
       "       'May 28, 2020', 'September 7, 2018', 'April 29, 2021',\n",
       "       'June 24, 2018', 'April 12, 2019', 'August 26, 2016',\n",
       "       'December 5, 2019', 'May 3, 2019', 'September 2, 2020',\n",
       "       'March 6, 2020', 'October 4, 2019', 'August 11, 2017',\n",
       "       'November 19, 2020', 'July 1, 2020', 'October 26, 2018',\n",
       "       'December 1, 2019', 'April 28, 2021', 'October 16. 2019',\n",
       "       'November 15, 2019', 'April 15, 2021', 'November 21, 2019',\n",
       "       'August 10, 2018', 'April 5, 2019', 'May 10, 2019',\n",
       "       'October 12, 2017', 'July 7, 2016', 'January 15, 2021',\n",
       "       'August 29, 2019', 'September 28, 2018', 'September 3, 2020',\n",
       "       'June 19, 2020', 'January 11, 2019', 'September 16, 2020',\n",
       "       'April 14, 2021', 'March 26, 2021', 'March 25, 2021',\n",
       "       'December 15, 2017', 'September 11, 2020', 'December 8, 2017',\n",
       "       'October 18, 2019', 'October 9, 2020', 'May 16, 2019',\n",
       "       'January 4, 2019', 'September 1, 2017', 'June 18, 2020',\n",
       "       'December 12, 2018', 'July 12, 2019', 'May 27, 2016',\n",
       "       'November 2, 2018', 'May 14, 2021', 'May 13, 2020',\n",
       "       'February 1, 2019', 'March 12, 2021', 'March 29, 2019',\n",
       "       'December 14, 2020', 'November 17, 2017', 'December 16, 2016',\n",
       "       'June 5, 2020', 'March 30, 2018', 'November 8, 2019',\n",
       "       'October 13, 2016', 'November 5, 2020', 'April 28, 2017',\n",
       "       'April 29, 2016', 'August 24, 2018', 'December 7, 2020',\n",
       "       'July 24, 2020', 'November 11, 2020', 'April 6, 2018',\n",
       "       'January 17, 2020', 'November 16, 2018', 'July 16, 2019',\n",
       "       'February 7, 2020', 'March 27, 2020', 'January 12, 2018',\n",
       "       'December 11, 2020', 'November 11, 2016', 'March 20, 2020',\n",
       "       'April 13, 2018', 'May 4, 2018', 'August 9, 2019', 'March 8, 2019',\n",
       "       'June 14, 2019', 'August 14, 2020', 'October 21, 2020',\n",
       "       'November 25, 2020', 'May 11, 2018', 'February 12, 2020',\n",
       "       'May 26, 2017', 'December 13, 2019', 'September 20, 2019',\n",
       "       'March 10, 2017', 'March 17, 2017', 'January 29, 2021',\n",
       "       'May 29, 2015', 'August 3, 2018', 'March 13, 2020',\n",
       "       'August 2, 2019', 'March 18, 2016', 'January 8, 2021',\n",
       "       'April 1, 2021', 'November 10, 2017', 'May 22, 2020',\n",
       "       'March 24, 2017', 'August 28, 2020', 'August 7, 2020',\n",
       "       'November 20, 2020', 'November 6, 2020', 'August 17, 2020',\n",
       "       'February 8, 2019', 'September 27, 2019', 'March 23, 2018',\n",
       "       'April 19, 2019', 'September 14, 2018', 'December 1, 2017',\n",
       "       'April 7, 2017', 'May 22, 2019', 'June 8, 2018', 'March 16, 2018',\n",
       "       'December 22, 2017', 'March 18, 2021', 'January 28, 2021',\n",
       "       'November 24, 2020', 'January 25, 2019', 'December 21, 2018',\n",
       "       'April 21, 2017', 'June 9, 2017', 'October 13, 2017',\n",
       "       'October 11, 2019', 'March 9, 2018', 'April 23, 2020',\n",
       "       'February 12, 2021', 'August 28, 2019', 'August 5, 2020',\n",
       "       'December 21, 2020', 'September 25, 2019', 'December 24, 2019',\n",
       "       'February 16, 2018', 'February 14, 2020', 'August 20, 2020',\n",
       "       'April 29, 2020', 'December 13, 2014', 'September 21, 2018',\n",
       "       'October 12, 2019', 'September 15. 2017', 'January 14, 2021',\n",
       "       'March 25, 2020', 'March 13, 2019', 'October 20, 2017',\n",
       "       'February 9, 2018', 'October 28, 2019', 'February 28, 2020',\n",
       "       'March 21, 2019', 'April 17, 2021', 'May 31, 2019',\n",
       "       'June 12, 2020', 'April 7, 2021', 'June 26, 2020',\n",
       "       'September 29, 2017', 'June 15, 2018', 'May 7, 2021',\n",
       "       'June 24, 2020', 'June 23, 2017', 'May 12, 2021', 'July 28, 2017',\n",
       "       'June 7, 2019', 'August 19, 2016', 'September 4, 2020',\n",
       "       'June 29, 2018', 'November 23, 2020', 'July 31, 2019',\n",
       "       'April 16, 2021', 'November 20, 2019', 'May 27, 2021',\n",
       "       'June 16, 2017', 'January 11, 2021', 'April 24, 2020',\n",
       "       'September 15, 2020', 'February 3, 2017', 'December 3, 2020',\n",
       "       'February 7, 2017', 'March 3, 2021', 'July 10, 2019',\n",
       "       'July 29, 2016', 'July 15. 2016', 'October 10, 2018',\n",
       "       'September 21, 2020', 'May 6, 2020', 'December 27, 2020',\n",
       "       'September 17, 2020', 'May 11, 2020', 'September 12, 2017',\n",
       "       'November 21, 2017', 'September 30, 2020', 'November 13, 2020',\n",
       "       'July 14, 2017', 'January 6, 2021', 'December 24, 2020',\n",
       "       'September 30, 2016', 'October 8, 2020', 'March 1, 2021',\n",
       "       'February 24, 2017', 'May 19, 2017', 'November 9, 2018',\n",
       "       'October 12, 2018', 'June 3, 2020', 'July 10, 2020',\n",
       "       'September 22, 2017', 'September 15, 2019', 'December 18, 2020',\n",
       "       'March 17, 2021', 'February 23, 2021', 'April 26, 2019',\n",
       "       'May 17, 2019', 'March 22, 2019', 'December 9, 2020',\n",
       "       'October 19, 2018', 'December 1, 2020', 'June 19, 2019',\n",
       "       'April 22, 2020', 'December 27, 2019', 'September 10, 2019',\n",
       "       'April 20, 2019', 'October 27, 2020', 'September 18, 2015',\n",
       "       'May 1, 2019', 'November 13, 2018', 'January 7, 2021',\n",
       "       'July 24, 2019', 'January 22, 2021', 'August 17, 2018',\n",
       "       'September 23, 2016', 'September 15, 2017', 'January 18, 2019',\n",
       "       'March 8, 2018', 'February 14, 2018', 'October 5, 2018',\n",
       "       'May 1, 2018', 'April 30, 2021', 'October 29, 2019',\n",
       "       'October 7, 2016', 'September 13, 2016', 'July 17, 2020',\n",
       "       'May 12, 2017', 'May 27, 2020', 'July 8, 2020', 'October 13, 2020',\n",
       "       'September 12, 2018', 'October 14, 2016', 'October 6, 2017',\n",
       "       'June 24, 2016', 'May 22, 2015', 'August 21, 2019',\n",
       "       'January 31, 2020', 'February 12, 2019', 'July 29, 2020',\n",
       "       'July 17, 2015', 'November 22, 2017', 'October 14, 2020',\n",
       "       'April 17, 2019', 'October 27. 2017', 'September 13, 2018',\n",
       "       'September 16. 2016', 'June 12, 2019', 'July 27, 2018',\n",
       "       'September 9, 2020', 'December 20, 2019', 'June 26, 2015',\n",
       "       'October 16, 2015', 'October 12, 2016', 'February 11, 2020',\n",
       "       'December 14, 2018', 'November 27, 2019', 'October 16, 2020',\n",
       "       'August 4, 2017', 'December 6, 2019', 'November 4, 2016',\n",
       "       'September 7, 2020', 'August 26, 2020', 'March 24, 2021',\n",
       "       'November 24, 2017', 'October 23, 2019', 'May 20, 2020',\n",
       "       'December 31, 2018', 'October 9, 2015', 'December 16, 2018',\n",
       "       'December 8, 2020', 'October 4, 2020'], dtype=object)"
      ]
     },
     "execution_count": 29,
     "metadata": {},
     "output_type": "execute_result"
    }
   ],
   "source": [
    "df_cleaned[\"Year\"].unique()"
   ]
  },
  {
   "cell_type": "code",
   "execution_count": 30,
   "metadata": {
    "id": "Q7c4OsYN69a5"
   },
   "outputs": [],
   "source": [
    "# Step 1: Extract year using regex\n",
    "df_cleaned[\"Year\"] = df_cleaned[\"Year\"].str.extract(r'(\\d{4})')\n",
    "\n",
    "# Step 2: Convert to integer\n",
    "df_cleaned[\"Year\"] = df_cleaned[\"Year\"].astype(int)\n"
   ]
  },
  {
   "cell_type": "code",
   "execution_count": 31,
   "metadata": {
    "colab": {
     "base_uri": "https://localhost:8080/",
     "height": 489
    },
    "id": "hkmssZlj7mG0",
    "outputId": "a9146707-1b2c-4329-fed5-5e292ad2ed19"
   },
   "outputs": [
    {
     "data": {
      "text/plain": [
       "Year\n",
       "1913       1\n",
       "1917       1\n",
       "1918       1\n",
       "1919       2\n",
       "1920       2\n",
       "        ... \n",
       "2020    1449\n",
       "2021    1495\n",
       "2022    1770\n",
       "2023    1564\n",
       "2024     983\n",
       "Name: count, Length: 105, dtype: int64"
      ]
     },
     "execution_count": 31,
     "metadata": {},
     "output_type": "execute_result"
    }
   ],
   "source": [
    "df_cleaned[\"Year\"].value_counts().sort_index()"
   ]
  },
  {
   "cell_type": "code",
   "execution_count": 32,
   "metadata": {
    "colab": {
     "base_uri": "https://localhost:8080/",
     "height": 465
    },
    "id": "PvEaP8oz7nYU",
    "outputId": "5992f3f2-5e0b-4c68-fa50-49bf70de66c0"
   },
   "outputs": [
    {
     "data": {
      "image/png": "[encoded data removed]",
      "text/plain": [
       "<Figure size 1700x600 with 1 Axes>"
      ]
     },
     "metadata": {},
     "output_type": "display_data"
    }
   ],
   "source": [
    "# Count the number of movies per year\n",
    "movies_per_year = df_cleaned[\"Year\"].value_counts().sort_index()\n",
    "\n",
    "# Plot the data\n",
    "plt.figure(figsize=(17, 6))\n",
    "plt.bar(movies_per_year.index, movies_per_year.values, width=0.8, color='skyblue')\n",
    "plt.xticks(movies_per_year.index, rotation=60)\n",
    "plt.xlabel(\"Year\", fontsize=12)\n",
    "plt.ylabel(\"Number of Movies\", fontsize=12)\n",
    "plt.title(\"Count of Movies Per Year\", fontsize=14)\n",
    "plt.grid(axis='y', linestyle='--', alpha=0.7)\n",
    "plt.tight_layout()\n",
    "\n",
    "# Show the plot\n",
    "plt.show()"
   ]
  },
  {
   "cell_type": "code",
   "execution_count": 33,
   "metadata": {
    "colab": {
     "base_uri": "https://localhost:8080/",
     "height": 335
    },
    "id": "khBkRyKK8iVB",
    "outputId": "6af5f6d5-798b-4289-a75b-60b4763b0e10"
   },
   "outputs": [
    {
     "data": {
      "text/plain": [
       "Title               0\n",
       "Type_ID             0\n",
       "Genre_ID            0\n",
       "Year                0\n",
       "IMDB_Score          0\n",
       "Netflix_Original    0\n",
       "Main_Genre          0\n",
       "Mapped_Genre_ID     0\n",
       "dtype: int64"
      ]
     },
     "execution_count": 33,
     "metadata": {},
     "output_type": "execute_result"
    }
   ],
   "source": [
    "df_cleaned.isnull().sum()"
   ]
  },
  {
   "cell_type": "code",
   "execution_count": 34,
   "metadata": {
    "colab": {
     "base_uri": "https://localhost:8080/",
     "height": 335
    },
    "id": "OHTFS58B9Uqs",
    "outputId": "41f56287-9816-4423-c418-11a68a0f8e47"
   },
   "outputs": [
    {
     "data": {
      "text/plain": [
       "Title                object\n",
       "Type_ID              object\n",
       "Genre_ID             object\n",
       "Year                  int64\n",
       "IMDB_Score          float64\n",
       "Netflix_Original       bool\n",
       "Main_Genre           object\n",
       "Mapped_Genre_ID       int64\n",
       "dtype: object"
      ]
     },
     "execution_count": 34,
     "metadata": {},
     "output_type": "execute_result"
    }
   ],
   "source": [
    "df_cleaned.dtypes"
   ]
  },
  {
   "cell_type": "code",
   "execution_count": 35,
   "metadata": {
    "colab": {
     "base_uri": "https://localhost:8080/"
    },
    "id": "TXQk-2brmCEF",
    "outputId": "4e0e2431-c55a-408e-9e97-877ba69f6146"
   },
   "outputs": [
    {
     "data": {
      "text/plain": [
       "array(['movie', 'tv', 'Undefined'], dtype=object)"
      ]
     },
     "execution_count": 35,
     "metadata": {},
     "output_type": "execute_result"
    }
   ],
   "source": [
    "df_cleaned[\"Type_ID\"].unique()"
   ]
  },
  {
   "cell_type": "code",
   "execution_count": 36,
   "metadata": {
    "colab": {
     "base_uri": "https://localhost:8080/",
     "height": 143
    },
    "id": "OmG4JvLOoGy2",
    "outputId": "05dd527c-28cd-4122-97d3-831852109772"
   },
   "outputs": [
    {
     "data": {
      "text/html": [
       "<div>\n",
       "<style scoped>\n",
       "    .dataframe tbody tr th:only-of-type {\n",
       "        vertical-align: middle;\n",
       "    }\n",
       "\n",
       "    .dataframe tbody tr th {\n",
       "        vertical-align: top;\n",
       "    }\n",
       "\n",
       "    .dataframe thead th {\n",
       "        text-align: right;\n",
       "    }\n",
       "</style>\n",
       "<table border=\"1\" class=\"dataframe\">\n",
       "  <thead>\n",
       "    <tr style=\"text-align: right;\">\n",
       "      <th></th>\n",
       "      <th>Type_ID</th>\n",
       "      <th>Type</th>\n",
       "    </tr>\n",
       "  </thead>\n",
       "  <tbody>\n",
       "    <tr>\n",
       "      <th>0</th>\n",
       "      <td>0</td>\n",
       "      <td>movie</td>\n",
       "    </tr>\n",
       "    <tr>\n",
       "      <th>1</th>\n",
       "      <td>1</td>\n",
       "      <td>tv</td>\n",
       "    </tr>\n",
       "  </tbody>\n",
       "</table>\n",
       "</div>"
      ],
      "text/plain": [
       "   Type_ID   Type\n",
       "0        0  movie\n",
       "1        1     tv"
      ]
     },
     "execution_count": 36,
     "metadata": {},
     "output_type": "execute_result"
    }
   ],
   "source": [
    "types_df = pd.read_csv('C:/.Fichiers/.Révision/.Junior/BI & DBM/BI project/Datasets/Raw/Movie & Ratings/Types.csv')\n",
    "types_df"
   ]
  },
  {
   "cell_type": "code",
   "execution_count": 37,
   "metadata": {
    "colab": {
     "base_uri": "https://localhost:8080/"
    },
    "id": "c1gOSjJVmLj-",
    "outputId": "5f95e7f9-9de9-4b7d-9fbd-6a24beb286e7"
   },
   "outputs": [
    {
     "data": {
      "text/plain": [
       "{'movie': 0, 'tv': 1}"
      ]
     },
     "execution_count": 37,
     "metadata": {},
     "output_type": "execute_result"
    }
   ],
   "source": [
    "# Step 2: Map the main type to the type ID\n",
    "type_mapping = types_df.set_index(\"Type\")[\"Type_ID\"].to_dict()\n",
    "type_mapping"
   ]
  },
  {
   "cell_type": "code",
   "execution_count": 38,
   "metadata": {
    "colab": {
     "base_uri": "https://localhost:8080/",
     "height": 423
    },
    "id": "XldzkUTqog1z",
    "outputId": "112e29e8-7313-4708-f416-cbfcaa57bdab"
   },
   "outputs": [
    {
     "data": {
      "text/html": [
       "<div>\n",
       "<style scoped>\n",
       "    .dataframe tbody tr th:only-of-type {\n",
       "        vertical-align: middle;\n",
       "    }\n",
       "\n",
       "    .dataframe tbody tr th {\n",
       "        vertical-align: top;\n",
       "    }\n",
       "\n",
       "    .dataframe thead th {\n",
       "        text-align: right;\n",
       "    }\n",
       "</style>\n",
       "<table border=\"1\" class=\"dataframe\">\n",
       "  <thead>\n",
       "    <tr style=\"text-align: right;\">\n",
       "      <th></th>\n",
       "      <th>Title</th>\n",
       "      <th>Type_ID</th>\n",
       "      <th>Genre_ID</th>\n",
       "      <th>Year</th>\n",
       "      <th>IMDB_Score</th>\n",
       "      <th>Netflix_Original</th>\n",
       "      <th>Main_Genre</th>\n",
       "      <th>Mapped_Genre_ID</th>\n",
       "      <th>Mapped_Type_ID</th>\n",
       "    </tr>\n",
       "  </thead>\n",
       "  <tbody>\n",
       "    <tr>\n",
       "      <th>0</th>\n",
       "      <td>The Fifth Element</td>\n",
       "      <td>movie</td>\n",
       "      <td>Action, Adventure, Sci-Fi</td>\n",
       "      <td>1997</td>\n",
       "      <td>7.6</td>\n",
       "      <td>False</td>\n",
       "      <td>Action</td>\n",
       "      <td>1</td>\n",
       "      <td>0.0</td>\n",
       "    </tr>\n",
       "    <tr>\n",
       "      <th>1</th>\n",
       "      <td>Kill Bill: Vol. 1</td>\n",
       "      <td>movie</td>\n",
       "      <td>Action, Crime, Thriller</td>\n",
       "      <td>2003</td>\n",
       "      <td>8.2</td>\n",
       "      <td>False</td>\n",
       "      <td>Action</td>\n",
       "      <td>1</td>\n",
       "      <td>0.0</td>\n",
       "    </tr>\n",
       "    <tr>\n",
       "      <th>2</th>\n",
       "      <td>Jarhead</td>\n",
       "      <td>movie</td>\n",
       "      <td>Biography, Drama, War</td>\n",
       "      <td>2005</td>\n",
       "      <td>7.0</td>\n",
       "      <td>False</td>\n",
       "      <td>Biography</td>\n",
       "      <td>16</td>\n",
       "      <td>0.0</td>\n",
       "    </tr>\n",
       "    <tr>\n",
       "      <th>3</th>\n",
       "      <td>Unforgiven</td>\n",
       "      <td>movie</td>\n",
       "      <td>Drama, Western</td>\n",
       "      <td>1992</td>\n",
       "      <td>8.2</td>\n",
       "      <td>False</td>\n",
       "      <td>Drama</td>\n",
       "      <td>35</td>\n",
       "      <td>0.0</td>\n",
       "    </tr>\n",
       "    <tr>\n",
       "      <th>4</th>\n",
       "      <td>Eternal Sunshine of the Spotless Mind</td>\n",
       "      <td>movie</td>\n",
       "      <td>Drama, Romance, Sci-Fi</td>\n",
       "      <td>2004</td>\n",
       "      <td>8.3</td>\n",
       "      <td>False</td>\n",
       "      <td>Drama</td>\n",
       "      <td>35</td>\n",
       "      <td>0.0</td>\n",
       "    </tr>\n",
       "    <tr>\n",
       "      <th>...</th>\n",
       "      <td>...</td>\n",
       "      <td>...</td>\n",
       "      <td>...</td>\n",
       "      <td>...</td>\n",
       "      <td>...</td>\n",
       "      <td>...</td>\n",
       "      <td>...</td>\n",
       "      <td>...</td>\n",
       "      <td>...</td>\n",
       "    </tr>\n",
       "    <tr>\n",
       "      <th>19443</th>\n",
       "      <td>Taylor Swift: Reputation Stadium Tour</td>\n",
       "      <td>Undefined</td>\n",
       "      <td>Concert Film</td>\n",
       "      <td>2018</td>\n",
       "      <td>8.4</td>\n",
       "      <td>True</td>\n",
       "      <td>Concert Film</td>\n",
       "      <td>28</td>\n",
       "      <td>NaN</td>\n",
       "    </tr>\n",
       "    <tr>\n",
       "      <th>19444</th>\n",
       "      <td>Winter on Fire: Ukraine's Fight for Freedom</td>\n",
       "      <td>Undefined</td>\n",
       "      <td>Documentary</td>\n",
       "      <td>2015</td>\n",
       "      <td>8.4</td>\n",
       "      <td>True</td>\n",
       "      <td>Documentary</td>\n",
       "      <td>34</td>\n",
       "      <td>NaN</td>\n",
       "    </tr>\n",
       "    <tr>\n",
       "      <th>19445</th>\n",
       "      <td>Springsteen on Broadway</td>\n",
       "      <td>Undefined</td>\n",
       "      <td>One-man show</td>\n",
       "      <td>2018</td>\n",
       "      <td>8.5</td>\n",
       "      <td>True</td>\n",
       "      <td>One-man show</td>\n",
       "      <td>66</td>\n",
       "      <td>NaN</td>\n",
       "    </tr>\n",
       "    <tr>\n",
       "      <th>19446</th>\n",
       "      <td>Emicida: AmarElo - It's All For Yesterday</td>\n",
       "      <td>Undefined</td>\n",
       "      <td>Documentary</td>\n",
       "      <td>2020</td>\n",
       "      <td>8.6</td>\n",
       "      <td>True</td>\n",
       "      <td>Documentary</td>\n",
       "      <td>34</td>\n",
       "      <td>NaN</td>\n",
       "    </tr>\n",
       "    <tr>\n",
       "      <th>19447</th>\n",
       "      <td>David Attenborough: A Life on Our Planet</td>\n",
       "      <td>Undefined</td>\n",
       "      <td>Documentary</td>\n",
       "      <td>2020</td>\n",
       "      <td>9.0</td>\n",
       "      <td>True</td>\n",
       "      <td>Documentary</td>\n",
       "      <td>34</td>\n",
       "      <td>NaN</td>\n",
       "    </tr>\n",
       "  </tbody>\n",
       "</table>\n",
       "<p>19448 rows × 9 columns</p>\n",
       "</div>"
      ],
      "text/plain": [
       "                                             Title    Type_ID  \\\n",
       "0                                The Fifth Element      movie   \n",
       "1                                Kill Bill: Vol. 1      movie   \n",
       "2                                          Jarhead      movie   \n",
       "3                                       Unforgiven      movie   \n",
       "4            Eternal Sunshine of the Spotless Mind      movie   \n",
       "...                                            ...        ...   \n",
       "19443        Taylor Swift: Reputation Stadium Tour  Undefined   \n",
       "19444  Winter on Fire: Ukraine's Fight for Freedom  Undefined   \n",
       "19445                      Springsteen on Broadway  Undefined   \n",
       "19446    Emicida: AmarElo - It's All For Yesterday  Undefined   \n",
       "19447     David Attenborough: A Life on Our Planet  Undefined   \n",
       "\n",
       "                        Genre_ID  Year  IMDB_Score  Netflix_Original  \\\n",
       "0      Action, Adventure, Sci-Fi  1997         7.6             False   \n",
       "1        Action, Crime, Thriller  2003         8.2             False   \n",
       "2          Biography, Drama, War  2005         7.0             False   \n",
       "3                 Drama, Western  1992         8.2             False   \n",
       "4         Drama, Romance, Sci-Fi  2004         8.3             False   \n",
       "...                          ...   ...         ...               ...   \n",
       "19443               Concert Film  2018         8.4              True   \n",
       "19444                Documentary  2015         8.4              True   \n",
       "19445               One-man show  2018         8.5              True   \n",
       "19446                Documentary  2020         8.6              True   \n",
       "19447                Documentary  2020         9.0              True   \n",
       "\n",
       "         Main_Genre  Mapped_Genre_ID  Mapped_Type_ID  \n",
       "0            Action                1             0.0  \n",
       "1            Action                1             0.0  \n",
       "2         Biography               16             0.0  \n",
       "3             Drama               35             0.0  \n",
       "4             Drama               35             0.0  \n",
       "...             ...              ...             ...  \n",
       "19443  Concert Film               28             NaN  \n",
       "19444   Documentary               34             NaN  \n",
       "19445  One-man show               66             NaN  \n",
       "19446   Documentary               34             NaN  \n",
       "19447   Documentary               34             NaN  \n",
       "\n",
       "[19448 rows x 9 columns]"
      ]
     },
     "execution_count": 38,
     "metadata": {},
     "output_type": "execute_result"
    }
   ],
   "source": [
    "df_cleaned[\"Mapped_Type_ID\"] = df_cleaned[\"Type_ID\"].map(type_mapping)\n",
    "df_cleaned"
   ]
  },
  {
   "cell_type": "code",
   "execution_count": 39,
   "metadata": {
    "colab": {
     "base_uri": "https://localhost:8080/",
     "height": 366
    },
    "id": "aoiu1D6yox46",
    "outputId": "12d1cbd9-26dc-4b99-bd80-ce12ffea4e59"
   },
   "outputs": [
    {
     "data": {
      "text/plain": [
       "Title                object\n",
       "Type_ID              object\n",
       "Genre_ID             object\n",
       "Year                  int64\n",
       "IMDB_Score          float64\n",
       "Netflix_Original       bool\n",
       "Main_Genre           object\n",
       "Mapped_Genre_ID       int64\n",
       "Mapped_Type_ID      float64\n",
       "dtype: object"
      ]
     },
     "execution_count": 39,
     "metadata": {},
     "output_type": "execute_result"
    }
   ],
   "source": [
    "df_cleaned.dtypes"
   ]
  },
  {
   "cell_type": "code",
   "execution_count": 40,
   "metadata": {
    "colab": {
     "base_uri": "https://localhost:8080/",
     "height": 465
    },
    "id": "IIhBQdALoyuK",
    "outputId": "65047c40-3e88-419c-ecc4-7912bd7a0086"
   },
   "outputs": [
    {
     "data": {
      "image/png": "[encoded data removed]",
      "text/plain": [
       "<Figure size 1700x600 with 1 Axes>"
      ]
     },
     "metadata": {},
     "output_type": "display_data"
    }
   ],
   "source": [
    "# Count the number of movies per year\n",
    "program_type = df_cleaned[\"Type_ID\"].value_counts().sort_index()\n",
    "\n",
    "# Plot the data\n",
    "plt.figure(figsize=(17, 6))\n",
    "plt.bar(program_type.index, program_type.values, width=0.8, color='skyblue')\n",
    "plt.xticks(program_type.index, rotation=60)\n",
    "plt.xlabel(\"Type\", fontsize=12)\n",
    "plt.ylabel(\"Number of each program\", fontsize=12)\n",
    "plt.title(\"Count of Movies Per Year\", fontsize=14)\n",
    "plt.grid(axis='y', linestyle='--', alpha=0.7)\n",
    "plt.tight_layout()\n",
    "\n",
    "# Show the plot\n",
    "plt.show()"
   ]
  },
  {
   "cell_type": "markdown",
   "metadata": {
    "id": "1_jFcKOhv-O_"
   },
   "source": [
    "#5. Export Shows and Ratings\n"
   ]
  },
  {
   "cell_type": "code",
   "execution_count": 51,
   "metadata": {
    "id": "N6HuCNUnpMUh"
   },
   "outputs": [],
   "source": [
    "df_cleaned.to_csv('cleaned_Shows_and_Ratings.csv', index=False)"
   ]
  },
  {
   "cell_type": "code",
   "execution_count": 1,
   "metadata": {
    "id": "TIINx2rVwKtx"
   },
   "outputs": [
    {
     "ename": "NameError",
     "evalue": "name 'df_cleaned' is not defined",
     "output_type": "error",
     "traceback": [
      "\u001b[1;31m---------------------------------------------------------------------------\u001b[0m",
      "\u001b[1;31mNameError\u001b[0m                                 Traceback (most recent call last)",
      "Cell \u001b[1;32mIn[1], line 1\u001b[0m\n\u001b[1;32m----> 1\u001b[0m \u001b[43mdf_cleaned\u001b[49m\n",
      "\u001b[1;31mNameError\u001b[0m: name 'df_cleaned' is not defined"
     ]
    }
   ],
   "source": [
    "df_cleaned\n"
   ]
  }
 ],
 "metadata": {
  "colab": {
   "provenance": []
  },
  "kernelspec": {
   "display_name": "Python 3",
   "language": "python",
   "name": "python3"
  },
  "language_info": {
   "codemirror_mode": {
    "name": "ipython",
    "version": 3
   },
   "file_extension": ".py",
   "mimetype": "text/x-python",
   "name": "python",
   "nbconvert_exporter": "python",
   "pygments_lexer": "ipython3",
   "version": "3.12.4"
  }
 },
 "nbformat": 4,
 "nbformat_minor": 4
}
